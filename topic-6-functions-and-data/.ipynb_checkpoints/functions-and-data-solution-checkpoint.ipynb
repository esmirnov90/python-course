{
 "cells": [
  {
   "cell_type": "markdown",
   "id": "70e416ba",
   "metadata": {},
   "source": [
    "## Задание 1\n",
    "\n",
    "Напишите функцию, которая классифицирует фильмы из материалов занятия по правилам:\n",
    "* оценка 2 и ниже — низкий рейтинг;\n",
    "* оценка 4 и ниже — средний рейтинг;\n",
    "* оценка 4.5 и 5 — высокий рейтинг.\n",
    "\n",
    "Результат классификации запишите в столбец class."
   ]
  },
  {
   "cell_type": "code",
   "execution_count": 2,
   "id": "33b0f367",
   "metadata": {},
   "outputs": [
    {
     "name": "stdout",
     "output_type": "stream",
     "text": [
      "   userId  movieId  rating   timestamp            class\n",
      "0       1       31     2.5  1260759144  средний рейтинг\n",
      "1       1     1029     3.0  1260759179  средний рейтинг\n",
      "2       1     1061     3.0  1260759182  средний рейтинг\n",
      "3       1     1129     2.0  1260759185   низкий рейтинг\n",
      "4       1     1172     4.0  1260759205  средний рейтинг\n"
     ]
    }
   ],
   "source": [
    "import pandas\n",
    "\n",
    "def classify_movies(ratings_file):\n",
    "    # Чтение файла с оценками\n",
    "    ratings = pandas.read_csv(ratings_file)\n",
    "\n",
    "    # Функция для классификации фильмов\n",
    "    def classify(rating):\n",
    "        if rating <= 2:\n",
    "            return 'низкий рейтинг'\n",
    "        elif rating <= 4:\n",
    "            return 'средний рейтинг'\n",
    "        else:\n",
    "            return 'высокий рейтинг'\n",
    "\n",
    "    # Применение классификации к каждому рейтингу\n",
    "    ratings['class'] = ratings['rating'].apply(classify)\n",
    "\n",
    "    return ratings\n",
    "\n",
    "# Пример использования функции\n",
    "classified_movies = classify_movies('ratings.csv')\n",
    "print(classified_movies.head())"
   ]
  },
  {
   "cell_type": "markdown",
   "id": "f0f80e7a",
   "metadata": {},
   "source": [
    "## Задание 2\n",
    "\n",
    "Используйте файл keywords.csv.\n",
    "Нужно написать гео-классификатор, который каждой строке сможет выставить географическую принадлежность определённому региону. Т. е. если поисковый запрос содержит название города региона, то в столбце 'region' пишется название этого региона. Если поисковый запрос не содержит названия города, то ставим 'undefined'.\n",
    "\n",
    "\n",
    "Правила распределения по регионам Центр, Северо-Запад и Дальний Восток:\n",
    "```\n",
    "geo_data = {\n",
    "    'Центр': ['москва', 'тула', 'ярославль'],\n",
    "    'Северо-Запад': ['петербург', 'псков', 'мурманск'],\n",
    "    'Дальний Восток': ['владивосток', 'сахалин', 'хабаровск']\n",
    "}\n",
    "```\n",
    "\n",
    "Результат классификации запишите в отдельный столбец region."
   ]
  },
  {
   "cell_type": "code",
   "execution_count": 9,
   "id": "792cd34b",
   "metadata": {},
   "outputs": [
    {
     "name": "stdout",
     "output_type": "stream",
     "text": [
      "         keyword     shows     region\n",
      "0             вк  64292779  undefined\n",
      "1  одноклассники  63810309  undefined\n",
      "2          порно  41747114  undefined\n",
      "3           ютуб  39995567  undefined\n",
      "4      вконтакте  21014195  undefined\n",
      "                        keyword   shows          region\n",
      "127                авито москва  979292           Центр\n",
      "370    авито ру санкт петербург  425134    Северо-Запад\n",
      "564   погода в санкт петербурге  292489    Северо-Запад\n",
      "849             авито ярославль  209581           Центр\n",
      "1063        фарпост владивосток  176951  Дальний Восток\n"
     ]
    }
   ],
   "source": [
    "import pandas as pd\n",
    "\n",
    "# Загрузка данных\n",
    "keywords_df = pd.read_csv('keywords.csv')\n",
    "\n",
    "# Определение географических данных\n",
    "geo_data = {\n",
    "    'Центр': ['москва', 'тула', 'ярославль'],\n",
    "    'Северо-Запад': ['петербург', 'псков', 'мурманск'],\n",
    "    'Дальний Восток': ['владивосток', 'сахалин', 'хабаровск']\n",
    "}\n",
    "\n",
    "# Функция для определения региона\n",
    "def classify_region(keyword, geo_data):\n",
    "    for region, cities in geo_data.items():\n",
    "        if any(city in keyword for city in cities):\n",
    "            return region\n",
    "    return 'undefined'\n",
    "\n",
    "# Применение классификатора к каждой строке\n",
    "keywords_df['region'] = keywords_df['keyword'].apply(classify_region, args=(geo_data,))\n",
    "\n",
    "print(keywords_df.head())\n",
    "print(keywords_df.query(\"region != 'undefined'\").head())\n"
   ]
  },
  {
   "cell_type": "code",
   "execution_count": null,
   "id": "01802382",
   "metadata": {},
   "outputs": [],
   "source": []
  }
 ],
 "metadata": {
  "kernelspec": {
   "display_name": "Python 3 (ipykernel)",
   "language": "python",
   "name": "python3"
  },
  "language_info": {
   "codemirror_mode": {
    "name": "ipython",
    "version": 3
   },
   "file_extension": ".py",
   "mimetype": "text/x-python",
   "name": "python",
   "nbconvert_exporter": "python",
   "pygments_lexer": "ipython3",
   "version": "3.11.5"
  }
 },
 "nbformat": 4,
 "nbformat_minor": 5
}
