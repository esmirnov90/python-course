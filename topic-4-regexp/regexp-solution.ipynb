{
 "cells": [
  {
   "cell_type": "markdown",
   "id": "f7de0cb4",
   "metadata": {},
   "source": [
    "## Задание 1\n",
    "\n",
    "Напишите функцию, которая принимает на вход строку и проверяет, является ли она валидным транспортным номером (1 буква, 3 цифры, 2 буквы, 2–3 цифры). Обратите внимание, что не все буквы кириллического алфавита используются в транспортных номерах.\n",
    "\n",
    "Если номер валиден, то функция должна возвращать отдельно номер и регион.\n",
    "\n",
    "Примеры работы программы:\n",
    "car_id = 'А222BС96’\n",
    "Результат: Номер А222BС валиден. Регион: 96.\n",
    "\n",
    "car_id = 'АБ22ВВ193’\n",
    "Результат: Номер не валиден."
   ]
  },
  {
   "cell_type": "code",
   "execution_count": 3,
   "id": "f0585c9b",
   "metadata": {},
   "outputs": [
    {
     "name": "stdout",
     "output_type": "stream",
     "text": [
      "Номер A222BC валиден. Регион: 96.\n",
      "Номер А222BС валиден. Регион: 96.\n",
      "Номер А222ВС валиден. Регион: 96.\n",
      "Номер не валиден.\n",
      "Номер M123AB валиден. Регион: 177.\n",
      "Номер А123МВ валиден. Регион: 177.\n",
      "Номер B123EK валиден. Регион: 190.\n"
     ]
    }
   ],
   "source": [
    "import re\n",
    "\n",
    "def validate_car_number(car_id):\n",
    "    # Определяем допустимые буквы\n",
    "    valid_letters = 'ABEKMHOPCTYXАВЕКМНОРСТУХ'\n",
    "    pattern = r'^([' + valid_letters + r']{1}\\d{3}[' + valid_letters + r']{2})(\\d{2,3})$'\n",
    "\n",
    "    match = re.match(pattern, car_id)\n",
    "    if match:\n",
    "        # Номер валиден\n",
    "        number, region = match.groups()\n",
    "        return f'Номер {number} валиден. Регион: {region}.'\n",
    "    else:\n",
    "        # Номер не валиден\n",
    "        return 'Номер не валиден.'\n",
    "\n",
    "# английская раскладка\n",
    "print(validate_car_number('A222BC96'))   # Номер A222BC валиден. Регион: 96.\n",
    "# смешанная раскладка\n",
    "print(validate_car_number('А222BС96'))   # Номер А222BС валиден. Регион: 96.\n",
    "# русская раскладка\n",
    "print(validate_car_number('А222ВС96'))   # Номер А222ВС валиден. Регион: 96.\n",
    "# невалидный номер\n",
    "print(validate_car_number('АБ22ВВ193'))  # Номер не валиден.\n",
    "# валидные номера\n",
    "print(validate_car_number('M123AB177'))  # Номер M123AB валиден. Регион: 177.\n",
    "print(validate_car_number('А123МВ177'))  # Номер А123МВ валиден. Регион: 177.\n",
    "print(validate_car_number('B123EK190'))  # Номер B123EK валиден. Регион: 190."
   ]
  },
  {
   "cell_type": "markdown",
   "id": "6a57a711",
   "metadata": {},
   "source": [
    "## Задание 2 — необязательное\n",
    "\n",
    "Напишите функцию, которая будет удалять все последовательные повторы слов из заданной строки при помощи регулярных выражений.\n",
    "\n",
    "Пример работы программы:\n",
    "some_string = ‘Напишите функцию функцию, которая будет будет будет будет удалять все все все все последовательные повторы слов из из из из заданной строки строки при помощи регулярных выражений’\n",
    "\n",
    "Результат: Напишите функцию, которая будет удалять все последовательные повторы слов из заданной строки при помощи регулярных выражений."
   ]
  },
  {
   "cell_type": "code",
   "execution_count": 4,
   "id": "585f21f5",
   "metadata": {},
   "outputs": [
    {
     "name": "stdout",
     "output_type": "stream",
     "text": [
      "Напишите функцию, которая будет удалять все последовательные повторы слов из заданной строки при помощи регулярных выражений\n"
     ]
    }
   ],
   "source": [
    "import re\n",
    "\n",
    "def remove_consecutive_duplicates(text):\n",
    "    return re.sub(r'\\b(\\w+)( \\1\\b)+', r'\\1', text, flags=re.IGNORECASE)\n",
    "\n",
    "some_string = 'Напишите функцию функцию, которая будет будет будет будет удалять все все все все последовательные повторы слов из из из из заданной строки строки при помощи регулярных выражений'\n",
    "\n",
    "result = remove_consecutive_duplicates(some_string)\n",
    "print(result)"
   ]
  }
 ],
 "metadata": {
  "kernelspec": {
   "display_name": "Python 3 (ipykernel)",
   "language": "python",
   "name": "python3"
  },
  "language_info": {
   "codemirror_mode": {
    "name": "ipython",
    "version": 3
   },
   "file_extension": ".py",
   "mimetype": "text/x-python",
   "name": "python",
   "nbconvert_exporter": "python",
   "pygments_lexer": "ipython3",
   "version": "3.11.5"
  }
 },
 "nbformat": 4,
 "nbformat_minor": 5
}
