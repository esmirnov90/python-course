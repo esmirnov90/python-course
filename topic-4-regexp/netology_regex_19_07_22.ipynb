{
  "nbformat": 4,
  "nbformat_minor": 0,
  "metadata": {
    "kernelspec": {
      "display_name": "Python 3",
      "language": "python",
      "name": "python3"
    },
    "language_info": {
      "codemirror_mode": {
        "name": "ipython",
        "version": 3
      },
      "file_extension": ".py",
      "mimetype": "text/x-python",
      "name": "python",
      "nbconvert_exporter": "python",
      "pygments_lexer": "ipython3",
      "version": "3.8.5"
    },
    "colab": {
      "provenance": []
    }
  },
  "cells": [
    {
      "cell_type": "markdown",
      "metadata": {
        "id": "T14fj_LH_mVr"
      },
      "source": [
        "# Регулярные выражения\n",
        "\n",
        "Булыгин Олег  \n",
        "\n",
        "* [LinkedIn](linkedin.com/in/obulygin)  \n",
        "* [Мой канал в ТГ по Python](https://t.me/solidtalk)"
      ]
    },
    {
      "cell_type": "code",
      "source": [
        "import re"
      ],
      "metadata": {
        "id": "bfG5_RuypQlt"
      },
      "execution_count": null,
      "outputs": []
    },
    {
      "cell_type": "code",
      "metadata": {
        "id": "WxQkHgKD_hy5"
      },
      "source": [
        "re.findall(r'id\\d+', msg)"
      ],
      "execution_count": null,
      "outputs": []
    },
    {
      "cell_type": "code",
      "metadata": {
        "id": "mCafPRzv_hy9"
      },
      "source": [
        "# найдем идентификаторы пользователей в тексте\n",
        "msg = 'В розыгрыше победили: id1234563, id4653, id461'"
      ],
      "execution_count": null,
      "outputs": []
    },
    {
      "cell_type": "code",
      "metadata": {
        "id": "mvfyZlvS_hy-",
        "colab": {
          "base_uri": "https://localhost:8080/"
        },
        "outputId": "55a2ef79-cf0b-47cd-be7e-13c77e6a256a"
      },
      "source": [
        "re.findall(r'id\\d+', msg)"
      ],
      "execution_count": null,
      "outputs": [
        {
          "output_type": "execute_result",
          "data": {
            "text/plain": [
              "['id1234563', 'id4653', 'id461']"
            ]
          },
          "metadata": {},
          "execution_count": 3
        }
      ]
    },
    {
      "cell_type": "code",
      "metadata": {
        "id": "38hqT0YP_hzA"
      },
      "source": [
        "# ПРАКТИКА. Найдем хэштеги в твите\n",
        "tweet = 'когда #эпидемия, то обязательно #оставайсядома'"
      ],
      "execution_count": null,
      "outputs": []
    },
    {
      "cell_type": "code",
      "metadata": {
        "id": "QYLyEyPF_hzB",
        "colab": {
          "base_uri": "https://localhost:8080/"
        },
        "outputId": "7bb2df2e-b38f-40e9-8295-161b7c3f05ad"
      },
      "source": [
        "re.findall(r'#\\w+', tweet)"
      ],
      "execution_count": null,
      "outputs": [
        {
          "output_type": "execute_result",
          "data": {
            "text/plain": [
              "['#эпидемия', '#оставайсядома']"
            ]
          },
          "metadata": {},
          "execution_count": 6
        }
      ]
    },
    {
      "cell_type": "code",
      "source": [
        "re.findall(r'#\\w*', tweet)"
      ],
      "metadata": {
        "colab": {
          "base_uri": "https://localhost:8080/"
        },
        "id": "RnYSvVVOSPgI",
        "outputId": "5388e0ef-767e-406a-ec8d-03cbf37f6c08"
      },
      "execution_count": null,
      "outputs": [
        {
          "output_type": "execute_result",
          "data": {
            "text/plain": [
              "['#эпидемия', '#оставайсядома']"
            ]
          },
          "metadata": {},
          "execution_count": 7
        }
      ]
    },
    {
      "cell_type": "code",
      "source": [
        "re.findall(r'#\\w+', tweet)"
      ],
      "metadata": {
        "colab": {
          "base_uri": "https://localhost:8080/"
        },
        "id": "cHwDdYwUSVB2",
        "outputId": "28f355d0-07f5-48d5-ae50-ab1b39422ae1"
      },
      "execution_count": null,
      "outputs": [
        {
          "output_type": "execute_result",
          "data": {
            "text/plain": [
              "['#эпидемия', '#оставайсядома']"
            ]
          },
          "metadata": {},
          "execution_count": 8
        }
      ]
    },
    {
      "cell_type": "code",
      "source": [
        "re.findall(r'#\\D+', tweet)"
      ],
      "metadata": {
        "colab": {
          "base_uri": "https://localhost:8080/"
        },
        "id": "aXL7AVXgSscp",
        "outputId": "fe0bb976-0d2f-4f8e-fcfd-988cf384cefa"
      },
      "execution_count": null,
      "outputs": [
        {
          "output_type": "execute_result",
          "data": {
            "text/plain": [
              "['#эпидемия, то обязательно #оставайсядома']"
            ]
          },
          "metadata": {},
          "execution_count": 9
        }
      ]
    },
    {
      "cell_type": "markdown",
      "metadata": {
        "id": "0R7hBBVBBiI7"
      },
      "source": []
    },
    {
      "cell_type": "code",
      "metadata": {
        "id": "QdLpzlNB_hzB"
      },
      "source": [
        "# посмотрим внимательнее, как работают quantifiers\n",
        "text = \"\"\"Что такое регулярные выражения и как их использовать?\n",
        "Говоря простым языком, регулярное выражение — это последовательность символов, используемая для поиска и замены текста в строке или файле. Как уже было упомянуто,\\\n",
        "их поддерживает множество языков общего назначения: Python, Perl, R.\n",
        "Так что изучение регулярных выражений рано или поздно пригодится.\"\"\""
      ],
      "execution_count": null,
      "outputs": []
    },
    {
      "cell_type": "code",
      "metadata": {
        "scrolled": true,
        "id": "R9VklNwz_hzC",
        "colab": {
          "base_uri": "https://localhost:8080/"
        },
        "outputId": "82a7b217-e88f-4f05-beae-bddac0c16801"
      },
      "source": [
        "re.findall(r'\\w+', text)"
      ],
      "execution_count": null,
      "outputs": [
        {
          "output_type": "execute_result",
          "data": {
            "text/plain": [
              "['Что',\n",
              " 'такое',\n",
              " 'регулярные',\n",
              " 'выражения',\n",
              " 'и',\n",
              " 'как',\n",
              " 'их',\n",
              " 'использовать',\n",
              " 'Говоря',\n",
              " 'простым',\n",
              " 'языком',\n",
              " 'регулярное',\n",
              " 'выражение',\n",
              " 'это',\n",
              " 'последовательность',\n",
              " 'символов',\n",
              " 'используемая',\n",
              " 'для',\n",
              " 'поиска',\n",
              " 'и',\n",
              " 'замены',\n",
              " 'текста',\n",
              " 'в',\n",
              " 'строке',\n",
              " 'или',\n",
              " 'файле',\n",
              " 'Как',\n",
              " 'уже',\n",
              " 'было',\n",
              " 'упомянуто',\n",
              " 'их',\n",
              " 'поддерживает',\n",
              " 'множество',\n",
              " 'языков',\n",
              " 'общего',\n",
              " 'назначения',\n",
              " 'Python',\n",
              " 'Perl',\n",
              " 'R',\n",
              " 'Так',\n",
              " 'что',\n",
              " 'изучение',\n",
              " 'регулярных',\n",
              " 'выражений',\n",
              " 'рано',\n",
              " 'или',\n",
              " 'поздно',\n",
              " 'пригодится']"
            ]
          },
          "metadata": {},
          "execution_count": 11
        }
      ]
    },
    {
      "cell_type": "code",
      "metadata": {
        "id": "C9ofKbAc_hzC",
        "colab": {
          "base_uri": "https://localhost:8080/"
        },
        "outputId": "ae84b45f-c8f4-46d3-897d-29f30ee8a99d"
      },
      "source": [
        "re.findall(r'\\w*', text)"
      ],
      "execution_count": null,
      "outputs": [
        {
          "output_type": "execute_result",
          "data": {
            "text/plain": [
              "['Что',\n",
              " '',\n",
              " 'такое',\n",
              " '',\n",
              " 'регулярные',\n",
              " '',\n",
              " 'выражения',\n",
              " '',\n",
              " 'и',\n",
              " '',\n",
              " 'как',\n",
              " '',\n",
              " 'их',\n",
              " '',\n",
              " 'использовать',\n",
              " '',\n",
              " '',\n",
              " '',\n",
              " 'Говоря',\n",
              " '',\n",
              " 'простым',\n",
              " '',\n",
              " 'языком',\n",
              " '',\n",
              " '',\n",
              " 'регулярное',\n",
              " '',\n",
              " 'выражение',\n",
              " '',\n",
              " '',\n",
              " '',\n",
              " 'это',\n",
              " '',\n",
              " 'последовательность',\n",
              " '',\n",
              " 'символов',\n",
              " '',\n",
              " '',\n",
              " 'используемая',\n",
              " '',\n",
              " 'для',\n",
              " '',\n",
              " 'поиска',\n",
              " '',\n",
              " 'и',\n",
              " '',\n",
              " 'замены',\n",
              " '',\n",
              " 'текста',\n",
              " '',\n",
              " 'в',\n",
              " '',\n",
              " 'строке',\n",
              " '',\n",
              " 'или',\n",
              " '',\n",
              " 'файле',\n",
              " '',\n",
              " '',\n",
              " 'Как',\n",
              " '',\n",
              " 'уже',\n",
              " '',\n",
              " 'было',\n",
              " '',\n",
              " 'упомянуто',\n",
              " '',\n",
              " 'их',\n",
              " '',\n",
              " 'поддерживает',\n",
              " '',\n",
              " 'множество',\n",
              " '',\n",
              " 'языков',\n",
              " '',\n",
              " 'общего',\n",
              " '',\n",
              " 'назначения',\n",
              " '',\n",
              " '',\n",
              " 'Python',\n",
              " '',\n",
              " '',\n",
              " 'Perl',\n",
              " '',\n",
              " '',\n",
              " 'R',\n",
              " '',\n",
              " '',\n",
              " 'Так',\n",
              " '',\n",
              " 'что',\n",
              " '',\n",
              " 'изучение',\n",
              " '',\n",
              " 'регулярных',\n",
              " '',\n",
              " 'выражений',\n",
              " '',\n",
              " 'рано',\n",
              " '',\n",
              " 'или',\n",
              " '',\n",
              " 'поздно',\n",
              " '',\n",
              " 'пригодится',\n",
              " '',\n",
              " '']"
            ]
          },
          "metadata": {},
          "execution_count": 12
        }
      ]
    },
    {
      "cell_type": "code",
      "metadata": {
        "scrolled": false,
        "id": "WRBcmiin_hzD",
        "colab": {
          "base_uri": "https://localhost:8080/"
        },
        "outputId": "0051e37e-bb68-41c5-cc9f-8752fe54c42d"
      },
      "source": [
        "print(re.findall(r'\\w?', text))"
      ],
      "execution_count": null,
      "outputs": [
        {
          "output_type": "stream",
          "name": "stdout",
          "text": [
            "['Ч', 'т', 'о', '', 'т', 'а', 'к', 'о', 'е', '', 'р', 'е', 'г', 'у', 'л', 'я', 'р', 'н', 'ы', 'е', '', 'в', 'ы', 'р', 'а', 'ж', 'е', 'н', 'и', 'я', '', 'и', '', 'к', 'а', 'к', '', 'и', 'х', '', 'и', 'с', 'п', 'о', 'л', 'ь', 'з', 'о', 'в', 'а', 'т', 'ь', '', '', '', 'Г', 'о', 'в', 'о', 'р', 'я', '', 'п', 'р', 'о', 'с', 'т', 'ы', 'м', '', 'я', 'з', 'ы', 'к', 'о', 'м', '', '', 'р', 'е', 'г', 'у', 'л', 'я', 'р', 'н', 'о', 'е', '', 'в', 'ы', 'р', 'а', 'ж', 'е', 'н', 'и', 'е', '', '', '', 'э', 'т', 'о', '', 'п', 'о', 'с', 'л', 'е', 'д', 'о', 'в', 'а', 'т', 'е', 'л', 'ь', 'н', 'о', 'с', 'т', 'ь', '', 'с', 'и', 'м', 'в', 'о', 'л', 'о', 'в', '', '', 'и', 'с', 'п', 'о', 'л', 'ь', 'з', 'у', 'е', 'м', 'а', 'я', '', 'д', 'л', 'я', '', 'п', 'о', 'и', 'с', 'к', 'а', '', 'и', '', 'з', 'а', 'м', 'е', 'н', 'ы', '', 'т', 'е', 'к', 'с', 'т', 'а', '', 'в', '', 'с', 'т', 'р', 'о', 'к', 'е', '', 'и', 'л', 'и', '', 'ф', 'а', 'й', 'л', 'е', '', '', 'К', 'а', 'к', '', 'у', 'ж', 'е', '', 'б', 'ы', 'л', 'о', '', 'у', 'п', 'о', 'м', 'я', 'н', 'у', 'т', 'о', '', 'и', 'х', '', 'п', 'о', 'д', 'д', 'е', 'р', 'ж', 'и', 'в', 'а', 'е', 'т', '', 'м', 'н', 'о', 'ж', 'е', 'с', 'т', 'в', 'о', '', 'я', 'з', 'ы', 'к', 'о', 'в', '', 'о', 'б', 'щ', 'е', 'г', 'о', '', 'н', 'а', 'з', 'н', 'а', 'ч', 'е', 'н', 'и', 'я', '', '', 'P', 'y', 't', 'h', 'o', 'n', '', '', 'P', 'e', 'r', 'l', '', '', 'R', '', '', 'Т', 'а', 'к', '', 'ч', 'т', 'о', '', 'и', 'з', 'у', 'ч', 'е', 'н', 'и', 'е', '', 'р', 'е', 'г', 'у', 'л', 'я', 'р', 'н', 'ы', 'х', '', 'в', 'ы', 'р', 'а', 'ж', 'е', 'н', 'и', 'й', '', 'р', 'а', 'н', 'о', '', 'и', 'л', 'и', '', 'п', 'о', 'з', 'д', 'н', 'о', '', 'п', 'р', 'и', 'г', 'о', 'д', 'и', 'т', 'с', 'я', '', '']\n"
          ]
        }
      ]
    },
    {
      "cell_type": "code",
      "metadata": {
        "id": "I4FpQWdw_hzE"
      },
      "source": [],
      "execution_count": null,
      "outputs": []
    },
    {
      "cell_type": "code",
      "metadata": {
        "id": "qGntw1Qd_hzE"
      },
      "source": [
        "# необходимо из строки с условными датами вытащить их\n",
        "registration = 'Date of start: 4-12. Date of registration: 20-11'"
      ],
      "execution_count": null,
      "outputs": []
    },
    {
      "cell_type": "code",
      "metadata": {
        "id": "cASR3icl_hzF",
        "colab": {
          "base_uri": "https://localhost:8080/"
        },
        "outputId": "1f58077f-5170-40dd-ba1c-f10a325c48a5"
      },
      "source": [
        "re.findall(r'\\d{1,2}-\\d{1,2}', registration)"
      ],
      "execution_count": null,
      "outputs": [
        {
          "output_type": "execute_result",
          "data": {
            "text/plain": [
              "['4-12', '20-11']"
            ]
          },
          "metadata": {},
          "execution_count": 15
        }
      ]
    },
    {
      "cell_type": "code",
      "metadata": {
        "id": "zU0_MXp2_hzF"
      },
      "source": [],
      "execution_count": null,
      "outputs": []
    },
    {
      "cell_type": "code",
      "metadata": {
        "id": "ln3Z3Q3O_hzG"
      },
      "source": [
        "# вытащим номера телефонов и текста\n",
        "phone_numbers = 'Мария: 8-943-342-23-32 Александр: 8-323-432-23-67'"
      ],
      "execution_count": null,
      "outputs": []
    },
    {
      "cell_type": "code",
      "metadata": {
        "id": "tbUFSSXU_hzG",
        "colab": {
          "base_uri": "https://localhost:8080/"
        },
        "outputId": "60d8fdca-9ddc-47ea-b7e7-c2e73233a285"
      },
      "source": [
        "phone_pattern = r'\\d-\\d{3}-\\d{3}-\\d{2}-\\d{2}'\n",
        "re.findall(phone_pattern, phone_numbers)"
      ],
      "execution_count": null,
      "outputs": [
        {
          "output_type": "execute_result",
          "data": {
            "text/plain": [
              "['8-943-342-23-32', '8-323-432-23-67']"
            ]
          },
          "metadata": {},
          "execution_count": 17
        }
      ]
    },
    {
      "cell_type": "code",
      "metadata": {
        "id": "4UrQtkT1_hzH"
      },
      "source": [],
      "execution_count": null,
      "outputs": []
    },
    {
      "cell_type": "code",
      "metadata": {
        "scrolled": true,
        "id": "zqii2BFP_hzH"
      },
      "source": [
        "# ПРАКТИКА. Свалидируем дату\n",
        "date = 'some text 1st september 2019 07:25 some text'"
      ],
      "execution_count": null,
      "outputs": []
    },
    {
      "cell_type": "code",
      "metadata": {
        "id": "0jQLCAS4_hzH",
        "colab": {
          "base_uri": "https://localhost:8080/"
        },
        "outputId": "1bc9c502-6160-4668-b37f-dc8e71c1ed41"
      },
      "source": [
        "re.findall(r'\\d{1,2}\\w{2}\\s\\w+\\s\\d{4}', date)"
      ],
      "execution_count": null,
      "outputs": [
        {
          "output_type": "execute_result",
          "data": {
            "text/plain": [
              "['1st september 2019']"
            ]
          },
          "metadata": {},
          "execution_count": 21
        }
      ]
    },
    {
      "cell_type": "code",
      "source": [
        "re.findall(r'\\d{1,2}\\w+\\s+\\w+\\s+\\d{4}', date)"
      ],
      "metadata": {
        "colab": {
          "base_uri": "https://localhost:8080/"
        },
        "id": "Q6Y6-OTtWwtB",
        "outputId": "45671cad-3e60-4ced-b58c-d331bd2f0f92"
      },
      "execution_count": null,
      "outputs": [
        {
          "output_type": "execute_result",
          "data": {
            "text/plain": [
              "['1st september 2019']"
            ]
          },
          "metadata": {},
          "execution_count": 23
        }
      ]
    },
    {
      "cell_type": "code",
      "source": [
        "re.findall(r'\\d{1,2}\\w{2,3}\\s+\\w+\\s+\\d{4}', date)"
      ],
      "metadata": {
        "colab": {
          "base_uri": "https://localhost:8080/"
        },
        "id": "eJqxbIpgWykX",
        "outputId": "ea4342fb-4195-4349-ef40-29e533f998b7"
      },
      "execution_count": null,
      "outputs": [
        {
          "output_type": "execute_result",
          "data": {
            "text/plain": [
              "['1st september 2019']"
            ]
          },
          "metadata": {},
          "execution_count": 24
        }
      ]
    },
    {
      "cell_type": "code",
      "source": [
        "re.findall(r'\\d{1,2}\\w{2} \\w+ \\d{4}', date)"
      ],
      "metadata": {
        "colab": {
          "base_uri": "https://localhost:8080/"
        },
        "id": "kIU7h4wFW1rj",
        "outputId": "58656a97-ac07-4468-8e52-5f073fdaa53d"
      },
      "execution_count": null,
      "outputs": [
        {
          "output_type": "execute_result",
          "data": {
            "text/plain": [
              "['1st september 2019']"
            ]
          },
          "metadata": {},
          "execution_count": 25
        }
      ]
    },
    {
      "cell_type": "code",
      "source": [
        "re.findall(r'\\d{1,2}\\w{2} \\w+ \\d{4}', date)"
      ],
      "metadata": {
        "colab": {
          "base_uri": "https://localhost:8080/"
        },
        "id": "bTVcoJD0W4Y_",
        "outputId": "486f3af0-56bb-4205-e795-2d0ac2f19eca"
      },
      "execution_count": null,
      "outputs": [
        {
          "output_type": "execute_result",
          "data": {
            "text/plain": [
              "['1st september 2019']"
            ]
          },
          "metadata": {},
          "execution_count": 26
        }
      ]
    },
    {
      "cell_type": "code",
      "source": [
        "re.findall('\\d{1,2}\\w{2} \\w+ \\d{4}', date)"
      ],
      "metadata": {
        "colab": {
          "base_uri": "https://localhost:8080/"
        },
        "id": "g4j8FiTFXHVz",
        "outputId": "c8740caa-a568-4e93-8673-d2df40bfc62c"
      },
      "execution_count": null,
      "outputs": [
        {
          "output_type": "execute_result",
          "data": {
            "text/plain": [
              "['1st september 2019']"
            ]
          },
          "metadata": {},
          "execution_count": 28
        }
      ]
    },
    {
      "cell_type": "code",
      "source": [
        "re.findall('\\d{1,2}\\w{2}\\s\\w+\\s\\d{4}\\s\\d{2}:\\d{2}', date)"
      ],
      "metadata": {
        "colab": {
          "base_uri": "https://localhost:8080/"
        },
        "id": "xIyvMM8dXIml",
        "outputId": "465ddd90-4474-47c4-8dde-42aada14fef9"
      },
      "execution_count": null,
      "outputs": [
        {
          "output_type": "execute_result",
          "data": {
            "text/plain": [
              "['1st september 2019 07:25']"
            ]
          },
          "metadata": {},
          "execution_count": 30
        }
      ]
    },
    {
      "cell_type": "markdown",
      "metadata": {
        "id": "kXjJXj5hBkBj"
      },
      "source": []
    },
    {
      "cell_type": "code",
      "metadata": {
        "id": "DHp1uMnM_hzI",
        "colab": {
          "base_uri": "https://localhost:8080/"
        },
        "outputId": "34ff769c-68fe-4a47-cf81-63f6035135f6"
      },
      "source": [
        "# search ищет по всей строке, а match только в начале\n",
        "text = \"\"\"Что такое регулярные выражения и как их использовать?\n",
        "Говоря простым языком, регулярное выражение — это последовательность символов, используемая для поиска и замены текста в строке или файле. Как уже было упомянуто,\\\n",
        "их поддерживает множество языков общего назначения: Python, Perl, R.\n",
        "Так что изучение регулярных выражений рано или поздно пригодится.\"\"\"\n",
        "\n",
        "result = re.match(r'P\\w+', text)\n",
        "# result\n",
        "print('Нашел' if result else 'Не нашел')"
      ],
      "execution_count": null,
      "outputs": [
        {
          "output_type": "stream",
          "name": "stdout",
          "text": [
            "Не нашел\n"
          ]
        }
      ]
    },
    {
      "cell_type": "code",
      "metadata": {
        "id": "uM3JJ1eR_hzI",
        "colab": {
          "base_uri": "https://localhost:8080/"
        },
        "outputId": "d3c786f8-a69b-49cf-82dd-91cab072654b"
      },
      "source": [
        "re.match(r'\\w+', text)"
      ],
      "execution_count": null,
      "outputs": [
        {
          "output_type": "execute_result",
          "data": {
            "text/plain": [
              "<re.Match object; span=(0, 3), match='Что'>"
            ]
          },
          "metadata": {},
          "execution_count": 32
        }
      ]
    },
    {
      "cell_type": "code",
      "metadata": {
        "id": "Js-pRNcy_hzJ",
        "colab": {
          "base_uri": "https://localhost:8080/"
        },
        "outputId": "b17501a4-7a9a-4337-f19c-724cedb32fa3"
      },
      "source": [
        "res = re.search(r'P\\w+', text)\n",
        "# res.start()\n",
        "# res.group()\n",
        "# res"
      ],
      "execution_count": null,
      "outputs": [
        {
          "output_type": "execute_result",
          "data": {
            "text/plain": [
              "269"
            ]
          },
          "metadata": {},
          "execution_count": 36
        }
      ]
    },
    {
      "cell_type": "code",
      "metadata": {
        "id": "8BP4XUVO_hzJ"
      },
      "source": [],
      "execution_count": null,
      "outputs": []
    },
    {
      "cell_type": "code",
      "metadata": {
        "id": "sWzhv7xE_hzJ"
      },
      "source": [
        "# экранирование\n",
        "text = \"Эта строка написана 08.06.2021, а могла бы и 01/01/2999\""
      ],
      "execution_count": null,
      "outputs": []
    },
    {
      "cell_type": "code",
      "metadata": {
        "id": "MJGyV901_hzK",
        "colab": {
          "base_uri": "https://localhost:8080/"
        },
        "outputId": "75ec4337-61e1-4364-eeee-00fe6e1f5815"
      },
      "source": [
        "re.findall(r'\\d\\d.\\d\\d.\\d{4}', text)"
      ],
      "execution_count": null,
      "outputs": [
        {
          "output_type": "execute_result",
          "data": {
            "text/plain": [
              "['08.06.2021', '01/01/2999']"
            ]
          },
          "metadata": {},
          "execution_count": 39
        }
      ]
    },
    {
      "cell_type": "code",
      "metadata": {
        "id": "iSKV6Rqc_hzK"
      },
      "source": [
        "# определим находится ли домен в зоне com\n",
        "domain = 'www.site.com'"
      ],
      "execution_count": null,
      "outputs": []
    },
    {
      "cell_type": "code",
      "metadata": {
        "id": "m3h4l64J_hzK",
        "colab": {
          "base_uri": "https://localhost:8080/"
        },
        "outputId": "72e8dbf6-6290-44e2-c1b3-cf675051e6e2"
      },
      "source": [
        "re.findall(r'www\\..+\\.com', domain)"
      ],
      "execution_count": null,
      "outputs": [
        {
          "output_type": "execute_result",
          "data": {
            "text/plain": [
              "['www.site.com']"
            ]
          },
          "metadata": {},
          "execution_count": 41
        }
      ]
    },
    {
      "cell_type": "code",
      "metadata": {
        "id": "3Fgjt-hA_hzL"
      },
      "source": [
        "# поищем только в начале и конце строки\n",
        "history_comment = '20 век был более опасным, чем 19 век'"
      ],
      "execution_count": null,
      "outputs": []
    },
    {
      "cell_type": "code",
      "metadata": {
        "id": "mBANMW7F_hzL",
        "colab": {
          "base_uri": "https://localhost:8080/"
        },
        "outputId": "c8e30e5a-674d-4b61-efea-e502aba8e586"
      },
      "source": [
        "re.findall(r'\\d{1,2}\\sвек', history_comment)"
      ],
      "execution_count": null,
      "outputs": [
        {
          "output_type": "execute_result",
          "data": {
            "text/plain": [
              "['20 век', '19 век']"
            ]
          },
          "metadata": {},
          "execution_count": 43
        }
      ]
    },
    {
      "cell_type": "code",
      "metadata": {
        "id": "cxBFLGqF_hzM",
        "colab": {
          "base_uri": "https://localhost:8080/"
        },
        "outputId": "e92378b5-fb9f-4fec-d956-c42cd87897af"
      },
      "source": [
        "re.findall(r'^\\d{1,2}\\sвек', history_comment)"
      ],
      "execution_count": null,
      "outputs": [
        {
          "output_type": "execute_result",
          "data": {
            "text/plain": [
              "['20 век']"
            ]
          },
          "metadata": {},
          "execution_count": 44
        }
      ]
    },
    {
      "cell_type": "code",
      "metadata": {
        "id": "RHLmO7nh_hzN",
        "colab": {
          "base_uri": "https://localhost:8080/"
        },
        "outputId": "08dfa3a1-1803-4fbe-b258-c3682bd00eaa"
      },
      "source": [
        "re.findall(r'\\d{1,2}\\sвек$', history_comment)"
      ],
      "execution_count": null,
      "outputs": [
        {
          "output_type": "execute_result",
          "data": {
            "text/plain": [
              "['19 век']"
            ]
          },
          "metadata": {},
          "execution_count": 45
        }
      ]
    },
    {
      "cell_type": "code",
      "metadata": {
        "id": "rbbiCwSt_hzN"
      },
      "source": [],
      "execution_count": null,
      "outputs": []
    },
    {
      "cell_type": "code",
      "metadata": {
        "id": "UYt4Ie2p_hzN",
        "colab": {
          "base_uri": "https://localhost:8080/"
        },
        "outputId": "a00f3faa-b32b-4344-8f49-c48122f39a77"
      },
      "source": [
        "# ИЛИ\n",
        "market_search = 'Что лучше: ноутбук или компьютер?'\n",
        "re.findall('ноутбук|компьютер', market_search)"
      ],
      "execution_count": null,
      "outputs": [
        {
          "output_type": "execute_result",
          "data": {
            "text/plain": [
              "['ноутбук', 'компьютер']"
            ]
          },
          "metadata": {},
          "execution_count": 46
        }
      ]
    },
    {
      "cell_type": "code",
      "metadata": {
        "id": "QA_LkF74_hzO",
        "colab": {
          "base_uri": "https://localhost:8080/",
          "height": 36
        },
        "outputId": "9d589ab9-15bf-4666-db00-634ec60d6be2"
      },
      "source": [
        "text = '    Тут текст в который попали пробельные символы в начале и в конце, от которых нужно избавиться   '\n",
        "\n",
        "re.sub(r'^\\s+|\\s+$', '', text)"
      ],
      "execution_count": null,
      "outputs": [
        {
          "output_type": "execute_result",
          "data": {
            "text/plain": [
              "'Тут текст в который попали пробельные символы в начале и в конце, от которых нужно избавиться'"
            ],
            "application/vnd.google.colaboratory.intrinsic+json": {
              "type": "string"
            }
          },
          "metadata": {},
          "execution_count": 47
        }
      ]
    },
    {
      "cell_type": "code",
      "metadata": {
        "id": "WJUKoWcN_hzO"
      },
      "source": [],
      "execution_count": null,
      "outputs": []
    },
    {
      "cell_type": "code",
      "metadata": {
        "id": "rfzOaAqP_hzP",
        "colab": {
          "base_uri": "https://localhost:8080/"
        },
        "outputId": "4ed6d5a2-2f65-44cf-e28a-26a2bf701051"
      },
      "source": [
        "# [] - найдем слово во всем склонениях\n",
        "text = \"\"\"Что такое регулярные выражения и как их использовать?\n",
        "Говоря простым языком, регулярное выражение — это последовательность символов, используемая для поиска и замены текста в строке или файле. Как уже было упомянуто,\n",
        "их поддерживает множество языков общего назначения: Python, Perl, R.\n",
        "Так что изучение регулярных выражений рано или поздно пригодится.\"\"\"\n",
        "pattern = r'[Рр]егулярн[а-я]{2,3}\\sвыражен[а-я]{2,3}'\n",
        "re.findall(pattern, text)"
      ],
      "execution_count": null,
      "outputs": [
        {
          "output_type": "execute_result",
          "data": {
            "text/plain": [
              "['регулярные выражения', 'регулярное выражение', 'регулярных выражений']"
            ]
          },
          "metadata": {},
          "execution_count": 48
        }
      ]
    },
    {
      "cell_type": "code",
      "metadata": {
        "id": "tlzH1TFZ_hzQ"
      },
      "source": [],
      "execution_count": null,
      "outputs": []
    },
    {
      "cell_type": "code",
      "metadata": {
        "id": "M8NQrHsJ_hzR"
      },
      "source": [
        "# найдем все домены, которые состоят из цифр\n",
        "websites = 'www.101.com  www.google.com'"
      ],
      "execution_count": null,
      "outputs": []
    },
    {
      "cell_type": "code",
      "metadata": {
        "id": "Q-e3ERl2_hzR",
        "colab": {
          "base_uri": "https://localhost:8080/"
        },
        "outputId": "00b07a6c-e472-4258-ef6b-baa2a0daa7bc"
      },
      "source": [
        "re.findall(r'www\\.[0-9]+\\.com', websites)"
      ],
      "execution_count": null,
      "outputs": [
        {
          "output_type": "execute_result",
          "data": {
            "text/plain": [
              "['www.101.com']"
            ]
          },
          "metadata": {},
          "execution_count": 50
        }
      ]
    },
    {
      "cell_type": "code",
      "metadata": {
        "id": "edYU_HDW_hzR"
      },
      "source": [
        "websites = 'www.101.com  www.google.com'"
      ],
      "execution_count": null,
      "outputs": []
    },
    {
      "cell_type": "code",
      "metadata": {
        "id": "plq39Hbe_hzR",
        "colab": {
          "base_uri": "https://localhost:8080/"
        },
        "outputId": "ddbcab13-f249-438f-a336-95af028f03ac"
      },
      "source": [
        "re.findall(r'www\\.[^0-9]+\\.com', websites)"
      ],
      "execution_count": null,
      "outputs": [
        {
          "output_type": "execute_result",
          "data": {
            "text/plain": [
              "['www.google.com']"
            ]
          },
          "metadata": {},
          "execution_count": 52
        }
      ]
    },
    {
      "cell_type": "code",
      "metadata": {
        "id": "9MVX6FV6_hzS"
      },
      "source": [],
      "execution_count": null,
      "outputs": []
    },
    {
      "cell_type": "code",
      "metadata": {
        "id": "_eJo-m10_hzS",
        "colab": {
          "base_uri": "https://localhost:8080/"
        },
        "outputId": "fa3f7ad2-f5c7-4b1b-da53-4a00ad2d521d"
      },
      "source": [
        "# split\n",
        "columns = 'Столбец1,Столбец2;Столбец3, Столбец4; Столбец5'\n",
        "re.split(r'[,;]\\s?', columns)"
      ],
      "execution_count": null,
      "outputs": [
        {
          "output_type": "execute_result",
          "data": {
            "text/plain": [
              "['Столбец1', 'Столбец2', 'Столбец3', 'Столбец4', 'Столбец5']"
            ]
          },
          "metadata": {},
          "execution_count": 53
        }
      ]
    },
    {
      "cell_type": "code",
      "metadata": {
        "id": "_tiEjOyJ_hzS"
      },
      "source": [],
      "execution_count": null,
      "outputs": []
    },
    {
      "cell_type": "code",
      "metadata": {
        "id": "dGqHFMNR_hzT",
        "colab": {
          "base_uri": "https://localhost:8080/"
        },
        "outputId": "feeaa813-71da-4ab1-fe8c-49d443a1048d"
      },
      "source": [
        "# произведем замену на regex\n",
        "text = \"\"\"Что такое регулярные выражения и как их использовать?\n",
        "Говоря простым языком, регулярное выражение — это последовательность символов, используемая для поиска и замены текста в строке или файле. Как уже было упомянуто,\n",
        "их поддерживает множество языков общего назначения: Python, Perl, R.\n",
        "Так что изучение регулярных выражений рано или поздно пригодится.\"\"\"\n",
        "\n",
        "print(re.sub(r'[Рр]егулярн[а-я]+ выражен[а-я]+', 'regex', text))"
      ],
      "execution_count": null,
      "outputs": [
        {
          "output_type": "stream",
          "name": "stdout",
          "text": [
            "Что такое regex и как их использовать? \n",
            "Говоря простым языком, regex — это последовательность символов, используемая для поиска и замены текста в строке или файле. Как уже было упомянуто,\n",
            "их поддерживает множество языков общего назначения: Python, Perl, R.\n",
            "Так что изучение regex рано или поздно пригодится.\n"
          ]
        }
      ]
    },
    {
      "cell_type": "code",
      "metadata": {
        "id": "vEXnaRol_hzT",
        "colab": {
          "base_uri": "https://localhost:8080/"
        },
        "outputId": "a2db79db-3108-402a-9557-a9b066f8dfa9"
      },
      "source": [
        "text = \"Некоторые обычные слова подозрительны: хор, хук, хек, хорёк\"\n",
        "print(re.sub(r'\\b[хХ]\\w{2}\\b', 'censored', text))"
      ],
      "execution_count": null,
      "outputs": [
        {
          "output_type": "stream",
          "name": "stdout",
          "text": [
            "Некоторые обычные слова подозрительны: censored, censored, censored, хорёк\n"
          ]
        }
      ]
    },
    {
      "cell_type": "code",
      "metadata": {
        "id": "JC8bnaBk_hzT"
      },
      "source": [
        "# Практика. Удалим все знаки пунктуации из текста через sub\n",
        "text = \"\"\"Что такое регулярные выражения и как их использовать?\n",
        "Говоря простым языком, регулярное выражение — это последовательность символов, используемая для поиска и замены текста в строке или файле. Как уже было упомянуто,\n",
        "их поддерживает множество языков общего назначения: Python, Perl, R.!!!!!\n",
        "Так что изучение регулярных выражений рано или поздно пригодится....\"\"\""
      ],
      "execution_count": null,
      "outputs": []
    },
    {
      "cell_type": "code",
      "metadata": {
        "id": "fks9ubDa_hzU",
        "colab": {
          "base_uri": "https://localhost:8080/",
          "height": 70
        },
        "outputId": "7d3566f5-5e1c-4754-ed82-983e35af3082"
      },
      "source": [
        "re.sub(r'[!,.:?-]+', '', text)"
      ],
      "execution_count": null,
      "outputs": [
        {
          "output_type": "execute_result",
          "data": {
            "text/plain": [
              "'Что такое регулярные выражения и как их использовать \\nГоворя простым языком регулярное выражение — это последовательность символов используемая для поиска и замены текста в строке или файле Как уже было упомянуто\\nих поддерживает множество языков общего назначения Python Perl R\\nТак что изучение регулярных выражений рано или поздно пригодится'"
            ],
            "application/vnd.google.colaboratory.intrinsic+json": {
              "type": "string"
            }
          },
          "metadata": {},
          "execution_count": 64
        }
      ]
    },
    {
      "cell_type": "code",
      "source": [
        "print(re.sub(r'[!,.:?]', '', text))"
      ],
      "metadata": {
        "id": "eKxCtBOTfSxB"
      },
      "execution_count": null,
      "outputs": []
    },
    {
      "cell_type": "code",
      "source": [
        "re.sub(r'[ \\t]?[^\\s\\w]','',text)"
      ],
      "metadata": {
        "colab": {
          "base_uri": "https://localhost:8080/",
          "height": 70
        },
        "id": "YUkonxrofqXO",
        "outputId": "aae066d2-3766-4505-fd10-c343f6ddda68"
      },
      "execution_count": null,
      "outputs": [
        {
          "output_type": "execute_result",
          "data": {
            "text/plain": [
              "'Что такое регулярные выражения и как их использовать \\nГоворя простым языком регулярное выражение это последовательность символов используемая для поиска и замены текста в строке или файле Как уже было упомянуто\\nих поддерживает множество языков общего назначения Python Perl R\\nТак что изучение регулярных выражений рано или поздно пригодится'"
            ],
            "application/vnd.google.colaboratory.intrinsic+json": {
              "type": "string"
            }
          },
          "metadata": {},
          "execution_count": 65
        }
      ]
    },
    {
      "cell_type": "code",
      "source": [
        "print(re.sub('[^\\w\\s]', '', text))"
      ],
      "metadata": {
        "colab": {
          "base_uri": "https://localhost:8080/"
        },
        "id": "KKmIwfeBfz0f",
        "outputId": "ad107ab2-3559-4bb6-bf65-7369e47aa281"
      },
      "execution_count": null,
      "outputs": [
        {
          "output_type": "stream",
          "name": "stdout",
          "text": [
            "Что такое регулярные выражения и как их использовать \n",
            "Говоря простым языком регулярное выражение  это последовательность символов используемая для поиска и замены текста в строке или файле Как уже было упомянуто\n",
            "их поддерживает множество языков общего назначения Python Perl R\n",
            "Так что изучение регулярных выражений рано или поздно пригодится\n"
          ]
        }
      ]
    },
    {
      "cell_type": "markdown",
      "metadata": {
        "id": "ar8N3rykBnvu"
      },
      "source": []
    },
    {
      "cell_type": "code",
      "metadata": {
        "id": "VzI26XiV_hzU"
      },
      "source": [
        "# скобочные группы\n",
        "# выделим группы символов из посадочного талона, где:\n",
        "# - первые 2 символа - это авиакомпания;\n",
        "# - 4 следующие символа - номер рейса;\n",
        "# - 3 следующих символа - аэропорт отправления;\n",
        "# - 3 следюущих - аэропорт прибытия;\n",
        "# - оставшиеся - дата рейса\n",
        "# Все буквы всегда в верхнем регистре"
      ],
      "execution_count": null,
      "outputs": []
    },
    {
      "cell_type": "code",
      "metadata": {
        "id": "LlGOJfFT_hzV"
      },
      "source": [
        "flight = '''Boarding pass:\n",
        "LA4214 AER-CDB 06NOV\n",
        "LA4332 AER-CDB 07NOV\n",
        "'''"
      ],
      "execution_count": null,
      "outputs": []
    },
    {
      "cell_type": "code",
      "metadata": {
        "id": "bjec5-PB_hzV"
      },
      "source": [
        "regex_flight = r'([A-Z]{2})(\\d{4})\\s([A-Z]{3})-([A-Z]{3})\\s(\\d{2}[A-Z]{3})'"
      ],
      "execution_count": null,
      "outputs": []
    },
    {
      "cell_type": "code",
      "metadata": {
        "id": "K90yhL6J_hzV"
      },
      "source": [
        "# ВНИМАНИЕ! При наличии скобочных групп функция find_all ищет только их!\n",
        "# Остальные функции получают такой-же match объект, в котором есть возможность обратиться к любой группе\n",
        "flight_result = re.findall(regex_flight, flight)"
      ],
      "execution_count": null,
      "outputs": []
    },
    {
      "cell_type": "code",
      "metadata": {
        "id": "FtPQ5puv_hzW",
        "colab": {
          "base_uri": "https://localhost:8080/"
        },
        "outputId": "7f792d6a-0884-4d53-fd74-83ed2b704264"
      },
      "source": [
        "print(flight_result)"
      ],
      "execution_count": null,
      "outputs": [
        {
          "output_type": "stream",
          "name": "stdout",
          "text": [
            "[('LA', '4214', 'AER', 'CDB', '06NOV'), ('LA', '4332', 'AER', 'CDB', '07NOV')]\n"
          ]
        }
      ]
    },
    {
      "cell_type": "code",
      "metadata": {
        "id": "DW-PG4mp_hzW",
        "colab": {
          "base_uri": "https://localhost:8080/"
        },
        "outputId": "d19c08a2-0428-4499-9986-d8816e6e2559"
      },
      "source": [
        "flight_match_result = re.search(regex_flight, flight)\n",
        "print(flight_match_result)\n",
        "print(flight_match_result.group(3,4))"
      ],
      "execution_count": null,
      "outputs": [
        {
          "output_type": "stream",
          "name": "stdout",
          "text": [
            "<re.Match object; span=(16, 36), match='LA4214 AER-CDB 06NOV'>\n",
            "('AER', 'CDB')\n"
          ]
        }
      ]
    },
    {
      "cell_type": "code",
      "metadata": {
        "id": "dKRzXYJI_hzW",
        "colab": {
          "base_uri": "https://localhost:8080/",
          "height": 36
        },
        "outputId": "b2dcbb2b-a4e5-4ec2-e084-4f107068907d"
      },
      "source": [
        "# переведем даты к другому формату при помощи групп\n",
        "date = 'some text 08/30/1991 some text'\n",
        "re.sub(r'(\\d\\d)/(\\d\\d)/(\\d{4})', r'\\2.\\1.\\3', date)"
      ],
      "execution_count": null,
      "outputs": [
        {
          "output_type": "execute_result",
          "data": {
            "text/plain": [
              "'some text 30.08.1991 some text'"
            ],
            "application/vnd.google.colaboratory.intrinsic+json": {
              "type": "string"
            }
          },
          "metadata": {},
          "execution_count": 78
        }
      ]
    },
    {
      "cell_type": "code",
      "metadata": {
        "id": "Igp0COzW_hzX"
      },
      "source": [
        "# удалим последовательные повторы цифр\n",
        "numbers = '44444555 6666 8888 7777 44445467457547457555555'"
      ],
      "execution_count": null,
      "outputs": []
    },
    {
      "cell_type": "code",
      "metadata": {
        "id": "zCGLQ2Dg_hzX",
        "colab": {
          "base_uri": "https://localhost:8080/",
          "height": 36
        },
        "outputId": "a8900334-c60f-4199-8141-91a05b5e3ba8"
      },
      "source": [
        "re.sub(r'(\\d)\\1+', r'\\1', numbers)"
      ],
      "execution_count": null,
      "outputs": [
        {
          "output_type": "execute_result",
          "data": {
            "text/plain": [
              "'45 6 8 7 454674575474575'"
            ],
            "application/vnd.google.colaboratory.intrinsic+json": {
              "type": "string"
            }
          },
          "metadata": {},
          "execution_count": 80
        }
      ]
    },
    {
      "cell_type": "code",
      "metadata": {
        "id": "daNJpfTe_hzX"
      },
      "source": [],
      "execution_count": null,
      "outputs": []
    },
    {
      "cell_type": "code",
      "metadata": {
        "id": "RBGewGNf_hzY"
      },
      "source": [
        "# ПРАКТИКА. Посчитаем количество лайков и репостов по всем сообщениям\n",
        "messages = ['Опять дождь! Лайков: 2', 'Крутой был концерт 21 августа! Лайков: 28, Репостов: 22']"
      ],
      "execution_count": null,
      "outputs": []
    },
    {
      "cell_type": "code",
      "metadata": {
        "id": "gQfec0rL_hzY",
        "colab": {
          "base_uri": "https://localhost:8080/"
        },
        "outputId": "fe41ae3a-8ab4-4d49-d508-415dbce8a2c4"
      },
      "source": [
        "likes = 0\n",
        "reposts = 0\n",
        "\n",
        "for msg in messages:\n",
        "    likes_pattern = re.search(r'Лайков:\\s(\\d+)', msg)\n",
        "    reposts_pattern = re.search(r'Репостов:\\s(\\d+)', msg)\n",
        "    if likes_pattern: likes += int(likes_pattern.group(1))\n",
        "    if reposts_pattern: reposts += int(reposts_pattern.group(1))\n",
        "\n",
        "print(likes)\n",
        "print(reposts)"
      ],
      "execution_count": null,
      "outputs": [
        {
          "output_type": "stream",
          "name": "stdout",
          "text": [
            "30\n",
            "22\n"
          ]
        }
      ]
    },
    {
      "cell_type": "code",
      "metadata": {
        "id": "kBnKnsiG_hzY"
      },
      "source": [],
      "execution_count": null,
      "outputs": []
    },
    {
      "cell_type": "code",
      "metadata": {
        "id": "JpYcMJ7N_hzY"
      },
      "source": [
        "# Флаги\n",
        "text = \"\"\"Что такое регулярные выражения и как их использовать?\n",
        "Говоря простым языком, регулярное выражение — это последовательность символов, используемая для поиска и замены текста в строке или файле. Как уже было упомянуто,\n",
        "их поддерживает множество языков общего назначения: Python, Perl, R.\n",
        "Так что изучение регулярных выражений рано или поздно пригодится.\"\"\""
      ],
      "execution_count": null,
      "outputs": []
    },
    {
      "cell_type": "code",
      "metadata": {
        "id": "9BJwqTt8_hzZ",
        "colab": {
          "base_uri": "https://localhost:8080/"
        },
        "outputId": "8edd7af8-e1d9-4b5e-c156-dc32b1a65d3b"
      },
      "source": [
        "print(re.findall(r'[a-z]+', text))\n",
        "print(re.findall(r'[a-z]+', text, flags=re.IGNORECASE))"
      ],
      "execution_count": null,
      "outputs": [
        {
          "output_type": "stream",
          "name": "stdout",
          "text": [
            "['ython', 'erl']\n",
            "['Python', 'Perl', 'R']\n"
          ]
        }
      ]
    },
    {
      "cell_type": "code",
      "metadata": {
        "id": "p7mS82iG_hzZ",
        "colab": {
          "base_uri": "https://localhost:8080/"
        },
        "outputId": "cfbdb099-518f-441c-c5eb-ba5e9d68e682"
      },
      "source": [
        "print(re.findall(r'^\\w+', text))\n",
        "print(re.findall(r'^\\w+', text, flags=re.MULTILINE))"
      ],
      "execution_count": null,
      "outputs": [
        {
          "output_type": "stream",
          "name": "stdout",
          "text": [
            "['Что']\n",
            "['Что', 'Говоря', 'их', 'Так']\n"
          ]
        }
      ]
    },
    {
      "cell_type": "code",
      "metadata": {
        "id": "ubIcC-fr_hzZ"
      },
      "source": [],
      "execution_count": null,
      "outputs": []
    },
    {
      "cell_type": "code",
      "metadata": {
        "id": "MAIeq0qM_hza",
        "colab": {
          "base_uri": "https://localhost:8080/"
        },
        "outputId": "899d9142-5fd0-4f7c-e0b0-0bd7cefa79ff"
      },
      "source": [
        "# lookaround. Достанем имена только загруженных файлов\n",
        "report = 'файл 11.txt загружен, файл 22.txt ошибка 44345, файл 33.txt загружен, файл 44.txt ошибка 43535'\n",
        "# find_downloaded = r'\\d+\\.txt(?=\\sзагружен)'\n",
        "files_error = r'\\d+\\.txt(?!\\sзагружен)'\n",
        "# re.findall(find_downloaded, report)\n",
        "re.findall(files_error, report)"
      ],
      "execution_count": null,
      "outputs": [
        {
          "output_type": "execute_result",
          "data": {
            "text/plain": [
              "['22.txt', '44.txt']"
            ]
          },
          "metadata": {},
          "execution_count": 87
        }
      ]
    },
    {
      "cell_type": "code",
      "metadata": {
        "id": "LIjlIz6q_hza"
      },
      "source": [],
      "execution_count": null,
      "outputs": []
    },
    {
      "cell_type": "code",
      "metadata": {
        "id": "zOxfkL8L_hza"
      },
      "source": [
        "# ПРАКТИКА. Получить только рублевые цены\n",
        "prices = 'RUB4.44, RUB10.88, EUR0.99, RUB99.99, USD39.00'"
      ],
      "execution_count": null,
      "outputs": []
    },
    {
      "cell_type": "code",
      "metadata": {
        "id": "eA3B1dhK_hza",
        "colab": {
          "base_uri": "https://localhost:8080/"
        },
        "outputId": "8964838e-4de9-4717-c989-23aa8a0923ac"
      },
      "source": [
        "re.findall(r'(?<=RUB)\\d+\\.\\d{2}',prices)"
      ],
      "execution_count": null,
      "outputs": [
        {
          "output_type": "execute_result",
          "data": {
            "text/plain": [
              "['4.44', '10.88', '99.99']"
            ]
          },
          "metadata": {},
          "execution_count": 90
        }
      ]
    },
    {
      "cell_type": "code",
      "source": [
        "re.findall(r'(?<=RUB)\\d+\\.\\d{2}',prices)"
      ],
      "metadata": {
        "colab": {
          "base_uri": "https://localhost:8080/"
        },
        "id": "5rOdleMvl4SM",
        "outputId": "5b9e85f4-772d-4bbc-ca48-9a249e2ea587"
      },
      "execution_count": null,
      "outputs": [
        {
          "output_type": "execute_result",
          "data": {
            "text/plain": [
              "['4.44', '10.88', '99.99']"
            ]
          },
          "metadata": {},
          "execution_count": 93
        }
      ]
    },
    {
      "cell_type": "code",
      "source": [
        "'a[cvs]refse4564'"
      ],
      "metadata": {
        "id": "j4INQNePnJYs"
      },
      "execution_count": null,
      "outputs": []
    },
    {
      "cell_type": "markdown",
      "metadata": {
        "id": "WiWg81tWHz2b"
      },
      "source": [
        "https://regexcrossword.com/howtoplay\n",
        "\n",
        "https://ihateregex.io\n",
        "\n",
        "https://regex101.com/"
      ]
    },
    {
      "cell_type": "markdown",
      "source": [
        "Регулярные\n",
        "выражения\n",
        "Сборник рецептов\n",
        "2015\n",
        "Ян Гойвертс,\n",
        "Стивен\n",
        "Левитан"
      ],
      "metadata": {
        "id": "4bInRY3OHWNB"
      }
    }
  ]
}