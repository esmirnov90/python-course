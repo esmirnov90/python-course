{
 "cells": [
  {
   "cell_type": "markdown",
   "id": "86db51cb",
   "metadata": {},
   "source": [
    "## Задание 1\n",
    "\n",
    "С помощью python смоделировать игру против лотерейного автомата типа «777».\n",
    "Игрок платит 1 руб., после чего выпадает случайное целое число, равномерно распределённое от 0 до 999. \n",
    "При некоторых значениях числа игрок получает выигрыш:\n",
    "\n",
    "777: 200 руб.\n",
    "999: 100 руб.\n",
    "555: 50 руб.\n",
    "333: 15 руб.\n",
    "111: 10 руб.\n",
    "*77: 5 руб.\n",
    "**7: 3 руб.\n",
    "*00: 2 руб.\n",
    "**0: 1 руб.\n",
    "(* — любая цифра)\n",
    "\n",
    "Выгодна ли игра игроку? \n",
    "Сколько в среднем приобретает или теряет игрок за одну игру?"
   ]
  },
  {
   "cell_type": "code",
   "execution_count": 1,
   "id": "9aae1f92",
   "metadata": {},
   "outputs": [
    {
     "data": {
      "text/plain": [
       "-0.208345"
      ]
     },
     "execution_count": 1,
     "metadata": {},
     "output_type": "execute_result"
    }
   ],
   "source": [
    "import random\n",
    "\n",
    "def play_777():\n",
    "    # Стоимость одной игры\n",
    "    cost = 1\n",
    "\n",
    "    # Случайное число от 0 до 999\n",
    "    number = random.randint(0, 999)\n",
    "\n",
    "    # Определение выигрыша\n",
    "    if number == 777:\n",
    "        return 200 - cost\n",
    "    elif number == 999:\n",
    "        return 100 - cost\n",
    "    elif number == 555:\n",
    "        return 50 - cost\n",
    "    elif number == 333:\n",
    "        return 15 - cost\n",
    "    elif number == 111:\n",
    "        return 10 - cost\n",
    "    elif number % 100 == 77:\n",
    "        return 5 - cost\n",
    "    elif number % 10 == 7:\n",
    "        return 3 - cost\n",
    "    elif number % 100 == 0:\n",
    "        return 2 - cost\n",
    "    elif number % 10 == 0:\n",
    "        return 1 - cost\n",
    "    else:\n",
    "        return -cost\n",
    "\n",
    "# Симуляция игры миллион раз\n",
    "trials = 1_000_000\n",
    "total_profit = sum(play_777() for _ in range(trials))\n",
    "\n",
    "# Средний выигрыш или проигрыш за одну игру\n",
    "average_profit_per_game = total_profit / trials\n",
    "average_profit_per_game\n"
   ]
  },
  {
   "cell_type": "markdown",
   "id": "9975b360",
   "metadata": {},
   "source": [
    "### Задание 2 (дополнительное задание повышенной сложности)\n",
    "\n",
    "Теоретически рассчитать средний выигрыш (проигрыш) и сравнить с результатами моделирования."
   ]
  },
  {
   "cell_type": "code",
   "execution_count": 2,
   "id": "c4677fbc",
   "metadata": {},
   "outputs": [
    {
     "data": {
      "text/plain": [
       "0.5960000000000001"
      ]
     },
     "execution_count": 2,
     "metadata": {},
     "output_type": "execute_result"
    }
   ],
   "source": [
    "# Вероятности и выигрыши\n",
    "probabilities = {\n",
    "    777: 1/1000,\n",
    "    999: 1/1000,\n",
    "    555: 1/1000,\n",
    "    333: 1/1000,\n",
    "    111: 1/1000,\n",
    "    \"*77\": 9/1000,\n",
    "    \"**7\": 90/1000,\n",
    "    \"*00\": 10/1000,\n",
    "    \"**0\": 90/1000\n",
    "}\n",
    "\n",
    "# Соответствующие выигрыши\n",
    "winnings = {\n",
    "    777: 200,\n",
    "    999: 100,\n",
    "    555: 50,\n",
    "    333: 15,\n",
    "    111: 10,\n",
    "    \"*77\": 5,\n",
    "    \"**7\": 3,\n",
    "    \"*00\": 2,\n",
    "    \"**0\": 1\n",
    "}\n",
    "\n",
    "# Расчет ожидаемого значения\n",
    "expected_value = sum(probabilities[key] * (winnings[key] - 1) for key in probabilities)\n",
    "expected_value"
   ]
  }
 ],
 "metadata": {
  "kernelspec": {
   "display_name": "Python 3 (ipykernel)",
   "language": "python",
   "name": "python3"
  },
  "language_info": {
   "codemirror_mode": {
    "name": "ipython",
    "version": 3
   },
   "file_extension": ".py",
   "mimetype": "text/x-python",
   "name": "python",
   "nbconvert_exporter": "python",
   "pygments_lexer": "ipython3",
   "version": "3.11.5"
  }
 },
 "nbformat": 4,
 "nbformat_minor": 5
}
