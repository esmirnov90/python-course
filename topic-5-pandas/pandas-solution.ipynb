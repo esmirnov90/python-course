{
 "cells": [
  {
   "cell_type": "markdown",
   "id": "5a9e60ae-9c6c-4075-a6a5-f987b8a1c351",
   "metadata": {},
   "source": [
    "## Задание 1\n",
    "Датасет для домашнего задания вы найдете в разделе “Материалы к домашнему заданию” к этому занятию.\n",
    "Определите, какому фильму было выставлено больше всего оценок 5.0."
   ]
  },
  {
   "cell_type": "code",
   "execution_count": 2,
   "id": "ba257e7c-e435-41cd-9b86-d8154557fca8",
   "metadata": {
    "tags": []
   },
   "outputs": [
    {
     "name": "stdout",
     "output_type": "stream",
     "text": [
      "Фильм с наибольшим количеством оценок 5.0: Shawshank Redemption, The (1994)\n"
     ]
    }
   ],
   "source": [
    "import pandas as pd\n",
    "\n",
    "# Загрузка данных\n",
    "movies = pd.read_csv('task-1/movies.csv')\n",
    "ratings = pd.read_csv('task-1/ratings.csv')\n",
    "\n",
    "# Фильтрация оценок\n",
    "high_ratings = ratings[ratings['rating'] == 5.0]\n",
    "\n",
    "# Подсчет оценок для каждого фильма\n",
    "movie_counts = high_ratings['movieId'].value_counts()\n",
    "\n",
    "# Определение фильма с наибольшим количеством оценок 5.0\n",
    "most_rated_movie_id = movie_counts.idxmax()\n",
    "\n",
    "# Нахождение названия фильма\n",
    "most_rated_movie_title = movies[movies['movieId'] == most_rated_movie_id]['title'].iloc[0]\n",
    "\n",
    "print(f\"Фильм с наибольшим количеством оценок 5.0: {most_rated_movie_title}\")"
   ]
  },
  {
   "cell_type": "markdown",
   "id": "93d5fed9-f800-467b-814c-1ce9ddd75471",
   "metadata": {
    "tags": []
   },
   "source": [
    "## Задание 2\n",
    "По данным файла power.csv (находится в “Материалы к домашнему заданию”) посчитайте суммарное потребление стран Прибалтики (Латвия, Литва и Эстония) категорий 4, 12 и 21 за период с 2005 по 2010 год. Не учитывайте в расчётах отрицательные значения quantity."
   ]
  },
  {
   "cell_type": "code",
   "execution_count": 4,
   "id": "29f39ec6-78bd-43f6-88e2-39949cdfe10f",
   "metadata": {
    "tags": []
   },
   "outputs": [
    {
     "name": "stdout",
     "output_type": "stream",
     "text": [
      "Суммарное потребление стран Прибалтики: 240580.0\n"
     ]
    }
   ],
   "source": [
    "import pandas as pd\n",
    "\n",
    "# Загрузка данных\n",
    "data = pd.read_csv('task-2/power.csv')\n",
    "\n",
    "# Фильтрация данных\n",
    "filtered_data = data[\n",
    "    (data['country'].isin(['Latvia', 'Lithuania', 'Estonia'])) &\n",
    "    (data['category'].isin([4, 12, 21])) &\n",
    "    (data['year'] >= 2005) &\n",
    "    (data['year'] <= 2010) &\n",
    "    (data['quantity'] > 0)\n",
    "]\n",
    "\n",
    "# Подсчёт суммарного потребления\n",
    "total_consumption = filtered_data['quantity'].sum()\n",
    "print(f\"Суммарное потребление стран Прибалтики: {total_consumption}\")"
   ]
  }
 ],
 "metadata": {
  "kernelspec": {
   "display_name": "Python 3 (ipykernel)",
   "language": "python",
   "name": "python3"
  },
  "language_info": {
   "codemirror_mode": {
    "name": "ipython",
    "version": 3
   },
   "file_extension": ".py",
   "mimetype": "text/x-python",
   "name": "python",
   "nbconvert_exporter": "python",
   "pygments_lexer": "ipython3",
   "version": "3.11.5"
  }
 },
 "nbformat": 4,
 "nbformat_minor": 5
}
