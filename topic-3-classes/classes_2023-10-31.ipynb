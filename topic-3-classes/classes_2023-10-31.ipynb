{
 "cells": [
  {
   "cell_type": "markdown",
   "metadata": {},
   "source": [
    "# Практика"
   ]
  },
  {
   "cell_type": "code",
   "execution_count": null,
   "metadata": {},
   "outputs": [],
   "source": [
    "import sys\n",
    "sys.path.append('/Users/kbashevoy/Desktop/Нетология/Занятия/Занятие 8')\n",
    "\n",
    "from analytics_lib import *  # НИКОГДА так не делайте"
   ]
  },
  {
   "cell_type": "code",
   "execution_count": null,
   "metadata": {},
   "outputs": [],
   "source": [
    "import request"
   ]
  },
  {
   "cell_type": "code",
   "execution_count": null,
   "metadata": {},
   "outputs": [],
   "source": [
    "def useful_func(x, y, z):\n",
    "    \"\"\"Просто функции внутри классов - НЕ используют атрибуты\"\"\"\n",
    "    return x**2 + y**2 + z**2"
   ]
  },
  {
   "cell_type": "code",
   "execution_count": null,
   "metadata": {},
   "outputs": [],
   "source": [
    "def price_vat():\n",
    "    ..."
   ]
  },
  {
   "cell_type": "code",
   "execution_count": null,
   "metadata": {},
   "outputs": [],
   "source": [
    "self.cache = {\n",
    "    'params': 'result'\n",
    "}"
   ]
  },
  {
   "cell_type": "code",
   "execution_count": null,
   "metadata": {},
   "outputs": [],
   "source": [
    "def func(a, b, c):"
   ]
  },
  {
   "cell_type": "code",
   "execution_count": 58,
   "metadata": {
    "scrolled": true
   },
   "outputs": [
    {
     "data": {
      "text/plain": [
       "529344067295497451"
      ]
     },
     "execution_count": 58,
     "metadata": {},
     "output_type": "execute_result"
    }
   ],
   "source": [
    "hash((1, 2, 3))"
   ]
  },
  {
   "cell_type": "code",
   "execution_count": null,
   "metadata": {},
   "outputs": [],
   "source": [
    "cache:\n",
    "    '529344067295497451': 923,"
   ]
  },
  {
   "cell_type": "code",
   "execution_count": null,
   "metadata": {},
   "outputs": [],
   "source": [
    "func(1, 2, 3) --> "
   ]
  },
  {
   "cell_type": "code",
   "execution_count": 56,
   "metadata": {},
   "outputs": [],
   "source": [
    "class AnyClass:  # CamelCase snake_case\n",
    "    def __init__(self, currency='BLR', check=False):\n",
    "        print('Выполняется при обращении к классу')\n",
    "        # создаем все атрибуты, которые нужны для работы\n",
    "        self.currency = currency\n",
    "        \n",
    "        self._api_version = 'v5.31'  # рекомендация НЕ менять значение вне кода класса\n",
    "        self.__secret_attr = '123'  # запрет на изменение вне кода класса\n",
    "        \n",
    "        self.check = check\n",
    "        \n",
    "        self.price = 100\n",
    "        self.discount = 0.1\n",
    "    \n",
    "    # функции внутри класса - методы\n",
    "    def method_1(self):\n",
    "        # currency = 'RUB'  # ничем не отличается от переменной функции\n",
    "        self.currency = 'RUB'  # атрибут\n",
    "        \n",
    "        self._api_version = 'v5.31'  # рекомендация НЕ менять значение вне кода класса\n",
    "        self.__secret_attr = '123'  # запрет на изменение вне кода класса\n",
    "        \n",
    "    def method_2(self):\n",
    "        print(self.currency, self.__secret_attr)\n",
    "        \n",
    "    @staticmethod  # декоратор\n",
    "    def useful_func(x, y, z):\n",
    "        \"\"\"Просто функции внутри классов - НЕ используют атрибуты\"\"\"\n",
    "        return x**2 + y**2 + z**2\n",
    "    \n",
    "    @property\n",
    "    def price_vat_discount(self):\n",
    "        \"\"\"Вычисляемый атрибут\"\"\"\n",
    "        price_vat = self.price * 1.2\n",
    "        \n",
    "        return price_vat * (1 - self.discount)"
   ]
  },
  {
   "cell_type": "code",
   "execution_count": 57,
   "metadata": {},
   "outputs": [
    {
     "name": "stdout",
     "output_type": "stream",
     "text": [
      "Выполняется при обращении к классу\n"
     ]
    }
   ],
   "source": [
    "a = AnyClass()"
   ]
  },
  {
   "cell_type": "code",
   "execution_count": 52,
   "metadata": {},
   "outputs": [
    {
     "data": {
      "text/plain": [
       "108.0"
      ]
     },
     "execution_count": 52,
     "metadata": {},
     "output_type": "execute_result"
    }
   ],
   "source": [
    "a.price_vat_discount"
   ]
  },
  {
   "cell_type": "code",
   "execution_count": 47,
   "metadata": {},
   "outputs": [
    {
     "ename": "TypeError",
     "evalue": "useful_func() takes 3 positional arguments but 4 were given",
     "output_type": "error",
     "traceback": [
      "\u001b[0;31m---------------------------------------------------------------------------\u001b[0m",
      "\u001b[0;31mTypeError\u001b[0m                                 Traceback (most recent call last)",
      "\u001b[0;32m<ipython-input-47-2ba7b9bf1a0c>\u001b[0m in \u001b[0;36m<module>\u001b[0;34m\u001b[0m\n\u001b[0;32m----> 1\u001b[0;31m \u001b[0ma\u001b[0m\u001b[0;34m.\u001b[0m\u001b[0museful_func\u001b[0m\u001b[0;34m(\u001b[0m\u001b[0;36m1\u001b[0m\u001b[0;34m,\u001b[0m \u001b[0;36m2\u001b[0m\u001b[0;34m,\u001b[0m \u001b[0;36m3\u001b[0m\u001b[0;34m)\u001b[0m\u001b[0;34m\u001b[0m\u001b[0;34m\u001b[0m\u001b[0m\n\u001b[0m",
      "\u001b[0;31mTypeError\u001b[0m: useful_func() takes 3 positional arguments but 4 were given"
     ]
    }
   ],
   "source": [
    "a.useful_func(1, 2, 3)"
   ]
  },
  {
   "cell_type": "code",
   "execution_count": 44,
   "metadata": {},
   "outputs": [
    {
     "name": "stdout",
     "output_type": "stream",
     "text": [
      "Выполняется при обращении к классу\n"
     ]
    },
    {
     "data": {
      "text/plain": [
       "14"
      ]
     },
     "execution_count": 44,
     "metadata": {},
     "output_type": "execute_result"
    }
   ],
   "source": [
    "AnyClass().useful_func(1, 2, 3)"
   ]
  },
  {
   "cell_type": "code",
   "execution_count": 40,
   "metadata": {},
   "outputs": [
    {
     "name": "stdout",
     "output_type": "stream",
     "text": [
      "BLR 123\n"
     ]
    }
   ],
   "source": [
    "a.method_2()"
   ]
  },
  {
   "cell_type": "code",
   "execution_count": 25,
   "metadata": {},
   "outputs": [],
   "source": [
    "a.method_1()"
   ]
  },
  {
   "cell_type": "code",
   "execution_count": 22,
   "metadata": {},
   "outputs": [
    {
     "ename": "AttributeError",
     "evalue": "'AnyClass' object has no attribute '__secret_attr'",
     "output_type": "error",
     "traceback": [
      "\u001b[0;31m---------------------------------------------------------------------------\u001b[0m",
      "\u001b[0;31mAttributeError\u001b[0m                            Traceback (most recent call last)",
      "\u001b[0;32m<ipython-input-22-c4ac2513fc27>\u001b[0m in \u001b[0;36m<module>\u001b[0;34m\u001b[0m\n\u001b[0;32m----> 1\u001b[0;31m \u001b[0ma\u001b[0m\u001b[0;34m.\u001b[0m\u001b[0m__secret_attr\u001b[0m\u001b[0;34m\u001b[0m\u001b[0;34m\u001b[0m\u001b[0m\n\u001b[0m",
      "\u001b[0;31mAttributeError\u001b[0m: 'AnyClass' object has no attribute '__secret_attr'"
     ]
    }
   ],
   "source": [
    "a.__secret_attr"
   ]
  },
  {
   "cell_type": "code",
   "execution_count": 18,
   "metadata": {},
   "outputs": [
    {
     "data": {
      "text/plain": [
       "'v.6.0'"
      ]
     },
     "execution_count": 18,
     "metadata": {},
     "output_type": "execute_result"
    }
   ],
   "source": [
    "a._api_version = 'v.6.0'\n",
    "a._api_version"
   ]
  },
  {
   "cell_type": "code",
   "execution_count": 12,
   "metadata": {},
   "outputs": [
    {
     "data": {
      "text/plain": [
       "'EUR'"
      ]
     },
     "execution_count": 12,
     "metadata": {},
     "output_type": "execute_result"
    }
   ],
   "source": [
    "a.currency = 'EUR'\n",
    "a.currency"
   ]
  },
  {
   "cell_type": "code",
   "execution_count": 13,
   "metadata": {},
   "outputs": [
    {
     "name": "stdout",
     "output_type": "stream",
     "text": [
      "EUR\n"
     ]
    }
   ],
   "source": [
    "a.method_2()"
   ]
  },
  {
   "cell_type": "code",
   "execution_count": null,
   "metadata": {},
   "outputs": [],
   "source": []
  },
  {
   "cell_type": "code",
   "execution_count": null,
   "metadata": {},
   "outputs": [],
   "source": []
  },
  {
   "cell_type": "code",
   "execution_count": 1,
   "metadata": {},
   "outputs": [],
   "source": [
    "def func_1():\n",
    "    x = 1 \n",
    "    return x + 1"
   ]
  },
  {
   "cell_type": "code",
   "execution_count": 5,
   "metadata": {},
   "outputs": [],
   "source": [
    "def func_2(x):\n",
    "    print(x)"
   ]
  },
  {
   "cell_type": "code",
   "execution_count": 6,
   "metadata": {},
   "outputs": [],
   "source": [
    "result = func_1()"
   ]
  },
  {
   "cell_type": "code",
   "execution_count": 7,
   "metadata": {},
   "outputs": [
    {
     "name": "stdout",
     "output_type": "stream",
     "text": [
      "2\n"
     ]
    }
   ],
   "source": [
    "func_2(result)"
   ]
  },
  {
   "cell_type": "code",
   "execution_count": null,
   "metadata": {},
   "outputs": [],
   "source": []
  },
  {
   "cell_type": "code",
   "execution_count": null,
   "metadata": {},
   "outputs": [],
   "source": []
  },
  {
   "cell_type": "markdown",
   "metadata": {},
   "source": [
    "# Требования к отчету\n",
    "(в хронологическом порядке)\n",
    "\n",
    "1. Нужен отчет по трафику (визиты по дням)\n",
    "2. Сделайте таблицу попроще\n",
    "3. А можно сразу очень много строк получить?\n",
    "\n",
    "[Демо-счетчик](https://metrika.yandex.ru/stat/traffic?sort=-ym%3As%3Avisits&period=2020-08-01%3A2020-09-06&accuracy=1&id=44147844&stateHash=5d3ee51607d6bde783131e11) Яндекс.Метрики\n"
   ]
  },
  {
   "cell_type": "code",
   "execution_count": 59,
   "metadata": {},
   "outputs": [],
   "source": [
    "import requests"
   ]
  },
  {
   "cell_type": "code",
   "execution_count": 60,
   "metadata": {},
   "outputs": [],
   "source": [
    "API_URL = 'https://api-metrika.yandex.ru/stat/v1/data'\n",
    "METRIKA_ROWS_LIMIT = 5  # max 100000\n",
    "\n",
    "DEMO_COUNTER = 44147844"
   ]
  },
  {
   "cell_type": "code",
   "execution_count": 80,
   "metadata": {},
   "outputs": [],
   "source": [
    "class Metrika:\n",
    "    def __init__(self, token='', counter=DEMO_COUNTER, start_date='2020-09-01', end_date='2020-09-10'):\n",
    "        self.counter = counter\n",
    "        self.limit = METRIKA_ROWS_LIMIT\n",
    "        self.start_date = start_date\n",
    "        self.end_date = end_date\n",
    "        \n",
    "        if token:\n",
    "            self.headers = {'Authorization': 'OAuth ' + token}\n",
    "        else:\n",
    "            self.headers = ''  # для демо-счетчика заголовок запроса должен быть пустым\n",
    "        \n",
    "        self.dimensions = ''  # строки отчета\n",
    "        self.metrics = ''  # столбцы отчета\n",
    "        self.report = []  # сам отчет\n",
    "        \n",
    "    def api_request(self, offset=1):\n",
    "        \"\"\"Запрос к API Метрики, возвращает словарь с отчетом\"\"\"\n",
    "        params = {\n",
    "            'id': self.counter,\n",
    "            'date1': self.start_date,\n",
    "            'date2': self.end_date,\n",
    "            'metrics': self.metrics,\n",
    "            'dimensions': self.dimensions,\n",
    "            'limit': self.limit,\n",
    "            'offset': offset,\n",
    "            'accuracy': 1,\n",
    "        }\n",
    "        \n",
    "        response = requests.get(API_URL, params=params, headers=self.headers)\n",
    "        return response.json()['data']\n",
    "    \n",
    "    def traffic(self):\n",
    "        \"\"\"Отчет по посещаемости\"\"\"\n",
    "        self.metrics = 'ym:s:visits'\n",
    "        self.dimensions = 'ym:s:date'\n",
    "        \n",
    "        report = self.full_report()\n",
    "        self.report = report\n",
    "        \n",
    "    def browsers(self):\n",
    "        \"\"\"Отчет по браузерам\"\"\"\n",
    "        self.metrics = 'ym:s:visits'\n",
    "        self.dimensions = 'ym:s:date,ym:s:browser'\n",
    "        \n",
    "        report = self.full_report()\n",
    "        self.report = report\n",
    "    \n",
    "    def reformat_api_report(self):\n",
    "        \"\"\"Упрощение отчета до списка списков\"\"\"\n",
    "        reformatted_report = []\n",
    "\n",
    "        for line in self.report:\n",
    "            dimensions = [x['name'] for x in line['dimensions']]\n",
    "            reformatted_report.append(dimensions + line['metrics'])\n",
    "\n",
    "        self.report = reformatted_report\n",
    "    \n",
    "    def full_report(self):\n",
    "        \"\"\"Постраничная выгрузка из Метрики\"\"\"\n",
    "        full_data = []\n",
    "        offset = 1\n",
    "        \n",
    "        while True:\n",
    "            print('Starting offset {}'.format(offset))\n",
    "            data = self.api_request(offset=offset)\n",
    "            full_data += data\n",
    "            \n",
    "            offset += self.limit\n",
    "            if not data or len(data) < self.limit:\n",
    "                break\n",
    "        \n",
    "        return full_data"
   ]
  },
  {
   "cell_type": "code",
   "execution_count": 81,
   "metadata": {},
   "outputs": [],
   "source": [
    "m = Metrika(start_date='2023-01-01', end_date='2023-01-14')"
   ]
  },
  {
   "cell_type": "code",
   "execution_count": 82,
   "metadata": {},
   "outputs": [
    {
     "name": "stdout",
     "output_type": "stream",
     "text": [
      "Starting offset 1\n",
      "Starting offset 6\n",
      "Starting offset 11\n"
     ]
    }
   ],
   "source": [
    "m.traffic()"
   ]
  },
  {
   "cell_type": "code",
   "execution_count": 83,
   "metadata": {},
   "outputs": [
    {
     "data": {
      "text/plain": [
       "[{'dimensions': [{'name': '2023-01-11'}], 'metrics': [910.0]},\n",
       " {'dimensions': [{'name': '2023-01-12'}], 'metrics': [839.0]},\n",
       " {'dimensions': [{'name': '2023-01-10'}], 'metrics': [836.0]},\n",
       " {'dimensions': [{'name': '2023-01-09'}], 'metrics': [797.0]},\n",
       " {'dimensions': [{'name': '2023-01-13'}], 'metrics': [767.0]},\n",
       " {'dimensions': [{'name': '2023-01-05'}], 'metrics': [521.0]},\n",
       " {'dimensions': [{'name': '2023-01-04'}], 'metrics': [512.0]},\n",
       " {'dimensions': [{'name': '2023-01-03'}], 'metrics': [476.0]},\n",
       " {'dimensions': [{'name': '2023-01-14'}], 'metrics': [439.0]},\n",
       " {'dimensions': [{'name': '2023-01-06'}], 'metrics': [433.0]},\n",
       " {'dimensions': [{'name': '2023-01-07'}], 'metrics': [432.0]},\n",
       " {'dimensions': [{'name': '2023-01-08'}], 'metrics': [418.0]},\n",
       " {'dimensions': [{'name': '2023-01-02'}], 'metrics': [395.0]},\n",
       " {'dimensions': [{'name': '2023-01-01'}], 'metrics': [246.0]}]"
      ]
     },
     "execution_count": 83,
     "metadata": {},
     "output_type": "execute_result"
    }
   ],
   "source": [
    "m.report"
   ]
  },
  {
   "cell_type": "code",
   "execution_count": 84,
   "metadata": {},
   "outputs": [
    {
     "data": {
      "text/plain": [
       "[['2023-01-11', 910.0],\n",
       " ['2023-01-12', 839.0],\n",
       " ['2023-01-10', 836.0],\n",
       " ['2023-01-09', 797.0],\n",
       " ['2023-01-13', 767.0],\n",
       " ['2023-01-05', 521.0],\n",
       " ['2023-01-04', 512.0],\n",
       " ['2023-01-03', 476.0],\n",
       " ['2023-01-14', 439.0],\n",
       " ['2023-01-06', 433.0],\n",
       " ['2023-01-07', 432.0],\n",
       " ['2023-01-08', 418.0],\n",
       " ['2023-01-02', 395.0],\n",
       " ['2023-01-01', 246.0]]"
      ]
     },
     "execution_count": 84,
     "metadata": {},
     "output_type": "execute_result"
    }
   ],
   "source": [
    "m.reformat_api_report()\n",
    "m.report"
   ]
  },
  {
   "cell_type": "code",
   "execution_count": 85,
   "metadata": {},
   "outputs": [
    {
     "name": "stdout",
     "output_type": "stream",
     "text": [
      "Starting offset 1\n",
      "Starting offset 6\n",
      "Starting offset 11\n",
      "Starting offset 16\n",
      "Starting offset 21\n",
      "Starting offset 26\n",
      "Starting offset 31\n",
      "Starting offset 36\n",
      "Starting offset 41\n",
      "Starting offset 46\n",
      "Starting offset 51\n",
      "Starting offset 56\n",
      "Starting offset 61\n",
      "Starting offset 66\n",
      "Starting offset 71\n",
      "Starting offset 76\n",
      "Starting offset 81\n",
      "Starting offset 86\n",
      "Starting offset 91\n",
      "Starting offset 96\n",
      "Starting offset 101\n",
      "Starting offset 106\n",
      "Starting offset 111\n",
      "Starting offset 116\n",
      "Starting offset 121\n",
      "Starting offset 126\n",
      "Starting offset 131\n",
      "Starting offset 136\n",
      "Starting offset 141\n",
      "Starting offset 146\n",
      "Starting offset 151\n",
      "Starting offset 156\n",
      "Starting offset 161\n",
      "Starting offset 166\n",
      "Starting offset 171\n",
      "Starting offset 176\n",
      "Starting offset 181\n",
      "Starting offset 186\n",
      "Starting offset 191\n",
      "Starting offset 196\n",
      "Starting offset 201\n",
      "Starting offset 206\n",
      "Starting offset 211\n",
      "Starting offset 216\n",
      "Starting offset 221\n",
      "Starting offset 226\n",
      "Starting offset 231\n",
      "Starting offset 236\n",
      "Starting offset 241\n"
     ]
    },
    {
     "data": {
      "text/plain": [
       "[['2023-01-11', 'Google Chrome', 374.0],\n",
       " ['2023-01-12', 'Google Chrome', 340.0],\n",
       " ['2023-01-09', 'Google Chrome', 320.0],\n",
       " ['2023-01-10', 'Google Chrome', 319.0],\n",
       " ['2023-01-13', 'Google Chrome', 304.0],\n",
       " ['2023-01-05', 'Google Chrome', 202.0],\n",
       " ['2023-01-04', 'Google Chrome', 183.0],\n",
       " ['2023-01-03', 'Google Chrome', 177.0],\n",
       " ['2023-01-12', 'Яндекс.Браузер', 162.0],\n",
       " ['2023-01-09', 'Chrome Mobile', 160.0],\n",
       " ['2023-01-10', 'Chrome Mobile', 157.0],\n",
       " ['2023-01-13', 'Chrome Mobile', 157.0],\n",
       " ['2023-01-08', 'Chrome Mobile', 154.0],\n",
       " ['2023-01-11', 'Яндекс.Браузер', 152.0],\n",
       " ['2023-01-04', 'Chrome Mobile', 151.0],\n",
       " ['2023-01-07', 'Chrome Mobile', 149.0],\n",
       " ['2023-01-14', 'Chrome Mobile', 149.0],\n",
       " ['2023-01-05', 'Chrome Mobile', 144.0],\n",
       " ['2023-01-10', 'Яндекс.Браузер', 136.0],\n",
       " ['2023-01-11', 'Chrome Mobile', 136.0],\n",
       " ['2023-01-06', 'Chrome Mobile', 135.0],\n",
       " ['2023-01-02', 'Google Chrome', 134.0],\n",
       " ['2023-01-03', 'Chrome Mobile', 133.0],\n",
       " ['2023-01-01', 'Chrome Mobile', 132.0],\n",
       " ['2023-01-06', 'Google Chrome', 128.0],\n",
       " ['2023-01-08', 'Google Chrome', 124.0],\n",
       " ['2023-01-12', 'Chrome Mobile', 123.0],\n",
       " ['2023-01-13', 'Яндекс.Браузер', 122.0],\n",
       " ['2023-01-02', 'Chrome Mobile', 119.0],\n",
       " ['2023-01-07', 'Google Chrome', 113.0],\n",
       " ['2023-01-14', 'Google Chrome', 110.0],\n",
       " ['2023-01-09', 'Яндекс.Браузер', 107.0],\n",
       " ['2023-01-10', 'Safari', 68.0],\n",
       " ['2023-01-04', 'Яндекс.Браузер', 65.0],\n",
       " ['2023-01-14', 'Яндекс.Браузер', 62.0],\n",
       " ['2023-01-07', 'Яндекс.Браузер', 58.0],\n",
       " ['2023-01-11', 'Edge', 58.0],\n",
       " ['2023-01-09', 'Safari', 57.0],\n",
       " ['2023-01-05', 'Яндекс.Браузер', 55.0],\n",
       " ['2023-01-06', 'Яндекс.Браузер', 55.0],\n",
       " ['2023-01-11', 'Safari', 54.0],\n",
       " ['2023-01-08', 'Яндекс.Браузер', 49.0],\n",
       " ['2023-01-12', 'Safari', 49.0],\n",
       " ['2023-01-12', 'Edge', 49.0],\n",
       " ['2023-01-02', 'Яндекс.Браузер', 48.0],\n",
       " ['2023-01-01', 'Google Chrome', 47.0],\n",
       " ['2023-01-10', 'Edge', 46.0],\n",
       " ['2023-01-09', 'Firefox', 45.0],\n",
       " ['2023-01-13', 'Edge', 43.0],\n",
       " ['2023-01-03', 'Яндекс.Браузер', 42.0],\n",
       " ['2023-01-09', 'Edge', 42.0],\n",
       " ['2023-01-13', 'Firefox', 42.0],\n",
       " ['2023-01-11', 'Opera', 40.0],\n",
       " ['2023-01-11', 'Firefox', 40.0],\n",
       " ['2023-01-13', 'Safari', 40.0],\n",
       " ['2023-01-10', 'Firefox', 36.0],\n",
       " ['2023-01-12', 'Opera', 34.0],\n",
       " ['2023-01-14', 'Safari', 30.0],\n",
       " ['2023-01-12', 'Firefox', 29.0],\n",
       " ['2023-01-06', 'Safari', 27.0],\n",
       " ['2023-01-10', 'Opera', 27.0],\n",
       " ['2023-01-03', 'Safari', 26.0],\n",
       " ['2023-01-03', 'Firefox', 24.0],\n",
       " ['2023-01-07', 'Mobile Safari', 24.0],\n",
       " ['2023-01-12', 'Mobile Safari', 23.0],\n",
       " ['2023-01-05', 'Edge', 22.0],\n",
       " ['2023-01-07', 'Safari', 22.0],\n",
       " ['2023-01-08', 'Mobile Safari', 22.0],\n",
       " ['2023-01-04', 'Firefox', 21.0],\n",
       " ['2023-01-06', 'Edge', 21.0],\n",
       " ['2023-01-05', 'Firefox', 20.0],\n",
       " ['2023-01-05', 'Safari', 20.0],\n",
       " ['2023-01-02', 'Firefox', 19.0],\n",
       " ['2023-01-02', 'Safari', 19.0],\n",
       " ['2023-01-04', 'Safari', 19.0],\n",
       " ['2023-01-11', 'Mobile Safari', 19.0],\n",
       " ['2023-01-06', 'Samsung Internet', 18.0],\n",
       " ['2023-01-13', 'Opera', 18.0],\n",
       " ['2023-01-03', 'Edge', 17.0],\n",
       " ['2023-01-06', 'Firefox', 17.0],\n",
       " ['2023-01-07', 'Firefox', 17.0],\n",
       " ['2023-01-13', 'Mobile Safari', 17.0],\n",
       " ['2023-01-07', 'Edge', 16.0],\n",
       " ['2023-01-08', 'Safari', 16.0],\n",
       " ['2023-01-09', 'Opera', 16.0],\n",
       " ['2023-01-09', 'Mobile Safari', 16.0],\n",
       " ['2023-01-14', 'Firefox', 16.0],\n",
       " ['2023-01-01', 'Яндекс.Браузер', 15.0],\n",
       " ['2023-01-02', 'Edge', 15.0],\n",
       " ['2023-01-04', 'Opera', 15.0],\n",
       " ['2023-01-04', 'Edge', 15.0],\n",
       " ['2023-01-14', 'Edge', 15.0],\n",
       " ['2023-01-14', 'Samsung Internet', 15.0],\n",
       " ['2023-01-03', 'Opera', 14.0],\n",
       " ['2023-01-04', 'Mobile Safari', 14.0],\n",
       " ['2023-01-05', 'Mobile Safari', 14.0],\n",
       " ['2023-01-08', 'Firefox', 14.0],\n",
       " ['2023-01-10', 'Mobile Safari', 14.0],\n",
       " ['2023-01-14', 'Mobile Safari', 14.0],\n",
       " ['2023-01-03', 'Mobile Safari', 13.0],\n",
       " ['2023-01-04', 'Samsung Internet', 12.0],\n",
       " ['2023-01-06', 'Mobile Safari', 12.0],\n",
       " ['2023-01-02', 'Mobile Safari', 11.0],\n",
       " ['2023-01-10', 'Samsung Internet', 11.0],\n",
       " ['2023-01-05', 'Opera', 10.0],\n",
       " ['2023-01-07', 'Opera', 10.0],\n",
       " ['2023-01-08', 'Opera', 10.0],\n",
       " ['2023-01-08', 'Edge', 10.0],\n",
       " ['2023-01-07', 'Samsung Internet', 9.0],\n",
       " ['2023-01-11', 'Samsung Internet', 9.0],\n",
       " ['2023-01-13', 'Samsung Internet', 9.0],\n",
       " ['2023-01-14', 'Opera', 9.0],\n",
       " ['2023-01-01', 'Edge', 8.0],\n",
       " ['2023-01-02', 'Samsung Internet', 8.0],\n",
       " ['2023-01-03', 'Samsung Internet', 8.0],\n",
       " ['2023-01-05', 'Android Browser', 8.0],\n",
       " ['2023-01-06', 'Opera', 8.0],\n",
       " ['2023-01-12', 'Samsung Internet', 8.0],\n",
       " ['2023-01-01', 'Mobile Safari', 7.0],\n",
       " ['2023-01-09', 'Яндекс Старт: мобильное приложение', 7.0],\n",
       " ['2023-01-09', 'Samsung Internet', 7.0],\n",
       " ['2023-01-12', 'UCWEB', 7.0],\n",
       " ['2023-01-01', 'Safari', 6.0],\n",
       " ['2023-01-02', 'Opera', 6.0],\n",
       " ['2023-01-03', 'MIUI', 6.0],\n",
       " ['2023-01-05', 'Samsung Internet', 6.0],\n",
       " ['2023-01-10', 'Яндекс Старт: мобильное приложение', 6.0],\n",
       " ['2023-01-11', 'UCWEB', 6.0],\n",
       " ['2023-01-01', 'Firefox', 5.0],\n",
       " ['2023-01-01', 'MIUI', 5.0],\n",
       " ['2023-01-02', 'Яндекс Старт: мобильное приложение', 5.0],\n",
       " ['2023-01-05', 'UCWEB', 5.0],\n",
       " ['2023-01-08', 'Samsung Internet', 5.0],\n",
       " ['2023-01-09', 'UCWEB', 5.0],\n",
       " ['2023-01-11', 'Яндекс Старт: мобильное приложение', 5.0],\n",
       " ['2023-01-01', 'Яндекс Старт: мобильное приложение', 4.0],\n",
       " ['2023-01-02', 'Opera Mobile', 4.0],\n",
       " ['2023-01-02', 'Android Browser', 4.0],\n",
       " ['2023-01-04', 'Opera Mobile', 4.0],\n",
       " ['2023-01-05', 'MIUI', 4.0],\n",
       " ['2023-01-06', 'Android Browser', 4.0],\n",
       " ['2023-01-08', 'MIUI', 4.0],\n",
       " ['2023-01-09', 'Opera Mobile', 4.0],\n",
       " ['2023-01-10', 'Android Browser', 4.0],\n",
       " ['2023-01-11', 'Opera Mobile', 4.0],\n",
       " ['2023-01-12', 'Atom', 4.0],\n",
       " ['2023-01-13', 'UCWEB', 4.0],\n",
       " ['2023-01-14', 'Android Browser', 4.0],\n",
       " ['2023-01-14', 'Яндекс Старт: мобильное приложение', 4.0],\n",
       " ['2023-01-01', 'UCWEB', 3.0],\n",
       " ['2023-01-01', 'Android Browser', 3.0],\n",
       " ['2023-01-01', 'Samsung Internet', 3.0],\n",
       " ['2023-01-03', 'UCWEB', 3.0],\n",
       " ['2023-01-03', 'Android Browser', 3.0],\n",
       " ['2023-01-03', 'Atom', 3.0],\n",
       " ['2023-01-05', 'Opera Mobile', 3.0],\n",
       " ['2023-01-05', 'Firefox Mobile', 3.0],\n",
       " ['2023-01-07', 'UCWEB', 3.0],\n",
       " ['2023-01-07', 'Android Browser', 3.0],\n",
       " ['2023-01-07', 'Яндекс Старт: мобильное приложение', 3.0],\n",
       " ['2023-01-09', 'MIUI', 3.0],\n",
       " ['2023-01-10', 'Opera Mobile', 3.0],\n",
       " ['2023-01-10', 'MIUI', 3.0],\n",
       " ['2023-01-12', 'Android Browser', 3.0],\n",
       " ['2023-01-13', 'Яндекс Старт: мобильное приложение', 3.0],\n",
       " ['2023-01-13', 'Atom', 3.0],\n",
       " ['2023-01-14', 'UCWEB', 3.0],\n",
       " ['2023-01-01', 'Firefox Mobile', 2.0],\n",
       " ['2023-01-02', 'UCWEB', 2.0],\n",
       " ['2023-01-03', 'Opera Mobile', 2.0],\n",
       " ['2023-01-03', 'Яндекс Старт: мобильное приложение', 2.0],\n",
       " ['2023-01-03', 'Huawei Browser', 2.0],\n",
       " ['2023-01-04', 'Android Browser', 2.0],\n",
       " ['2023-01-04', 'Яндекс Старт: мобильное приложение', 2.0],\n",
       " ['2023-01-04', 'Google: мобильное приложение', 2.0],\n",
       " ['2023-01-04', 'Huawei Browser', 2.0],\n",
       " ['2023-01-04', 'HeadlessChrome', 2.0],\n",
       " ['2023-01-05', 'Яндекс Старт: мобильное приложение', 2.0],\n",
       " ['2023-01-05', 'Huawei Browser', 2.0],\n",
       " ['2023-01-06', 'Opera Mobile', 2.0],\n",
       " ['2023-01-06', 'HeadlessChrome', 2.0],\n",
       " ['2023-01-07', 'Opera Mobile', 2.0],\n",
       " ['2023-01-07', 'MIUI', 2.0],\n",
       " ['2023-01-08', 'Opera Mobile', 2.0],\n",
       " ['2023-01-08', 'Android Browser', 2.0],\n",
       " ['2023-01-08', 'Яндекс Старт: мобильное приложение', 2.0],\n",
       " ['2023-01-09', 'Android Browser', 2.0],\n",
       " ['2023-01-09', 'Google: мобильное приложение', 2.0],\n",
       " ['2023-01-09', 'Huawei Browser', 2.0],\n",
       " ['2023-01-10', 'Firefox Mobile', 2.0],\n",
       " ['2023-01-10', 'Huawei Browser', 2.0],\n",
       " ['2023-01-11', 'Firefox Mobile', 2.0],\n",
       " ['2023-01-11', 'Google: мобильное приложение', 2.0],\n",
       " ['2023-01-11', 'Atom', 2.0],\n",
       " ['2023-01-12', 'Opera Mobile', 2.0],\n",
       " ['2023-01-12', 'Firefox Mobile', 2.0],\n",
       " ['2023-01-12', 'Google: мобильное приложение', 2.0],\n",
       " ['2023-01-13', 'MIUI', 2.0],\n",
       " ['2023-01-14', 'Opera Mobile', 2.0],\n",
       " ['2023-01-14', 'Huawei Browser', 2.0],\n",
       " ['2023-01-01', 'Opera Mini', 1.0],\n",
       " ['2023-01-01', 'Opera', 1.0],\n",
       " ['2023-01-01', 'Tizen', 1.0],\n",
       " ['2023-01-01', 'MQQBrowser', 1.0],\n",
       " ['2023-01-01', 'Atom', 1.0],\n",
       " ['2023-01-01', 'Huawei Browser', 1.0],\n",
       " ['2023-01-02', 'MIUI', 1.0],\n",
       " ['2023-01-03', 'Opera Mini', 1.0],\n",
       " ['2023-01-04', 'MQQBrowser', 1.0],\n",
       " ['2023-01-04', 'MIUI', 1.0],\n",
       " ['2023-01-04', 'Atom', 1.0],\n",
       " ['2023-01-05', 'Google: мобильное приложение', 1.0],\n",
       " ['2023-01-06', 'UCWEB', 1.0],\n",
       " ['2023-01-06', 'Firefox Mobile', 1.0],\n",
       " ['2023-01-06', 'Puffin', 1.0],\n",
       " ['2023-01-06', 'Яндекс Старт: мобильное приложение', 1.0],\n",
       " ['2023-01-07', 'Huawei Browser', 1.0],\n",
       " ['2023-01-08', 'UCWEB', 1.0],\n",
       " ['2023-01-08', 'Atom', 1.0],\n",
       " ['2023-01-08', 'Huawei Browser', 1.0],\n",
       " ['2023-01-08', 'Яндекс с Алисой: мобильное приложение', 1.0],\n",
       " ['2023-01-09', 'Яндекс.Браузер lite', 1.0],\n",
       " ['2023-01-09', 'HeadlessChrome', 1.0],\n",
       " ['2023-01-10', 'UCWEB', 1.0],\n",
       " ['2023-01-10', 'Atom', 1.0],\n",
       " ['2023-01-11', 'MSIE', 1.0],\n",
       " ['2023-01-11', 'Android Browser', 1.0],\n",
       " ['2023-01-11', 'MIUI', 1.0],\n",
       " ['2023-01-11', 'Яндекс.Браузер lite', 1.0],\n",
       " ['2023-01-11', 'Huawei Browser', 1.0],\n",
       " ['2023-01-11', 'HeadlessChrome', 1.0],\n",
       " ['2023-01-11', 'Яндекс с Алисой: мобильное приложение', 1.0],\n",
       " ['2023-01-12', 'Яндекс Старт: мобильное приложение', 1.0],\n",
       " ['2023-01-12', 'Huawei Browser', 1.0],\n",
       " ['2023-01-13', 'Opera Mobile', 1.0],\n",
       " ['2023-01-13', 'Android Browser', 1.0],\n",
       " ['2023-01-13', 'Huawei Browser', 1.0],\n",
       " ['2023-01-14', 'Opera Mini', 1.0],\n",
       " ['2023-01-14', 'WebKit, другие', 1.0],\n",
       " ['2023-01-14', 'Chromium', 1.0],\n",
       " ['2023-01-14', 'HeadlessChrome', 1.0]]"
      ]
     },
     "execution_count": 85,
     "metadata": {},
     "output_type": "execute_result"
    }
   ],
   "source": [
    "m.browsers()\n",
    "m.reformat_api_report()\n",
    "m.report"
   ]
  },
  {
   "cell_type": "code",
   "execution_count": null,
   "metadata": {},
   "outputs": [],
   "source": []
  }
 ],
 "metadata": {
  "kernelspec": {
   "display_name": "Python 3",
   "language": "python",
   "name": "python3"
  },
  "language_info": {
   "codemirror_mode": {
    "name": "ipython",
    "version": 3
   },
   "file_extension": ".py",
   "mimetype": "text/x-python",
   "name": "python",
   "nbconvert_exporter": "python",
   "pygments_lexer": "ipython3",
   "version": "3.8.5"
  }
 },
 "nbformat": 4,
 "nbformat_minor": 4
}
