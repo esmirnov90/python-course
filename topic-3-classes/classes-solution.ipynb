{
 "cells": [
  {
   "cell_type": "markdown",
   "id": "189af697",
   "metadata": {},
   "source": [
    "## Задание 1\n",
    "\n",
    "Напишите код, который возвращает название валюты (поле Name) с максимальным значением курса с помощью сервиса: https://www.cbr-xml-daily.ru/daily_json.js\n",
    "\n",
    "Можно реализовать как с помощью класса из материалов занятия, так и без него.\n",
    "\n",
    "```\n",
    "Пример работы программы (зависит от текущих курсов валют):\n",
    "китайские юани.\n",
    "```"
   ]
  },
  {
   "cell_type": "code",
   "execution_count": 7,
   "id": "0ddae301",
   "metadata": {},
   "outputs": [],
   "source": [
    "from rate import Rate"
   ]
  },
  {
   "cell_type": "code",
   "execution_count": 8,
   "id": "c61f5248",
   "metadata": {},
   "outputs": [
    {
     "name": "stdout",
     "output_type": "stream",
     "text": [
      "СДР (специальные права заимствования)\n"
     ]
    }
   ],
   "source": [
    "class Task1Rate(Rate):\n",
    "    def max_rate_name(self):\n",
    "        \"Возвращает название валюты с максимальным значением курса\"\n",
    "        rates = self.exchange_rates()\n",
    "        return max(rates.values(), key=lambda rate: rate['Value'])['Name']\n",
    "\n",
    "rate = Task1Rate(format_='full').max_rate_name()\n",
    "print(rate)"
   ]
  },
  {
   "cell_type": "markdown",
   "id": "fafac8f2",
   "metadata": {},
   "source": [
    "## Задание 2 (необязательное)\n",
    "\n",
    "Добавьте в класс Rate параметр diff (со значениями True или False), который, в случае значения True в методах курсов валют (eur, usd и т. д.), будет возвращать не курс валюты, а изменение по сравнению с прошлым значением. Считайте, что значение diff=True параметр будет принимать только при возврате значения курса (format_=‘value’). При отображении всей информации о валюте (format_=‘full’) он не используется.\n",
    "\n",
    "```\n",
    "Примеры работы программы:\n",
    "\n",
    "r = Rate(diff=True)\n",
    "r.usd()\n",
    "\n",
    "Результат (зависит от текущего курса):\n",
    "-0.013721\n",
    "\n",
    "r = Rate(diff=False)\n",
    "r.usd()\n",
    "\n",
    "Результат (зависит от текущего курса):\n",
    "60.5748\n",
    "```"
   ]
  },
  {
   "cell_type": "code",
   "execution_count": 23,
   "id": "13ebccce",
   "metadata": {},
   "outputs": [],
   "source": [
    "class Task2Rate(Rate):\n",
    "    def __init__(self, format_='value', diff=False):\n",
    "        super().__init__(format_)\n",
    "        self.diff = diff\n",
    "        \n",
    "    def make_format(self, currency):\n",
    "        response = self.exchange_rates()\n",
    "\n",
    "        if currency in response:\n",
    "            if self.format == 'full':\n",
    "                return response[currency]\n",
    "\n",
    "            if self.format == 'value':\n",
    "                if self.diff:\n",
    "                    return response[currency]['Previous'] - response[currency]['Value']\n",
    "                else:\n",
    "                    return response[currency]['Value']\n",
    "\n",
    "        return 'Error'\n"
   ]
  },
  {
   "cell_type": "code",
   "execution_count": 24,
   "id": "775e2e46",
   "metadata": {},
   "outputs": [
    {
     "data": {
      "text/plain": [
       "0.1379000000000019"
      ]
     },
     "execution_count": 24,
     "metadata": {},
     "output_type": "execute_result"
    }
   ],
   "source": [
    "r = Task2Rate(diff=True)\n",
    "r.usd()"
   ]
  },
  {
   "cell_type": "code",
   "execution_count": 20,
   "id": "74193e82",
   "metadata": {},
   "outputs": [
    {
     "data": {
      "text/plain": [
       "93.0351"
      ]
     },
     "execution_count": 20,
     "metadata": {},
     "output_type": "execute_result"
    }
   ],
   "source": [
    "r = Task2Rate(diff=False)\n",
    "r.usd()"
   ]
  }
 ],
 "metadata": {
  "kernelspec": {
   "display_name": "Python 3 (ipykernel)",
   "language": "python",
   "name": "python3"
  },
  "language_info": {
   "codemirror_mode": {
    "name": "ipython",
    "version": 3
   },
   "file_extension": ".py",
   "mimetype": "text/x-python",
   "name": "python",
   "nbconvert_exporter": "python",
   "pygments_lexer": "ipython3",
   "version": "3.11.5"
  }
 },
 "nbformat": 4,
 "nbformat_minor": 5
}
