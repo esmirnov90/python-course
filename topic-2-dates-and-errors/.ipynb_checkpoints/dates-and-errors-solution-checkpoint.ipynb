{
 "cells": [
  {
   "cell_type": "markdown",
   "id": "cce17b00",
   "metadata": {},
   "source": [
    "# Задание 1\n",
    "\n",
    "Печатные газеты использовали свой формат дат для каждого выпуска. Для каждой газеты из списка напишите формат указанной даты для перевода в объект datetime:\n",
    "The Moscow Times - Wednesday, October 2, 2002\n",
    "The Guardian - Friday, 11.10.13\n",
    "Daily News - Thursday, 18 August 1977\n",
    "\n",
    "Пример работы программы\n",
    "Программа должна выводить на экран объекты типа datetime, соответствующие датам в условии задачи"
   ]
  },
  {
   "cell_type": "code",
   "execution_count": 1,
   "id": "8d4801b6",
   "metadata": {},
   "outputs": [],
   "source": [
    "from datetime import datetime"
   ]
  },
  {
   "cell_type": "code",
   "execution_count": 3,
   "id": "93e2f633",
   "metadata": {},
   "outputs": [
    {
     "name": "stdout",
     "output_type": "stream",
     "text": [
      "<class 'datetime.datetime'> 2002-10-02 00:00:00\n"
     ]
    }
   ],
   "source": [
    "the_moscow_times_date = 'Wednesday, October 2, 2002'\n",
    "the_moscow_times_format = '%A, %B %d, %Y'\n",
    "\n",
    "the_moscow_times_dt = datetime.strptime(the_moscow_times_date, the_moscow_times_format)\n",
    "print(type(the_moscow_times_dt), the_moscow_times_dt)"
   ]
  },
  {
   "cell_type": "code",
   "execution_count": 4,
   "id": "c2cb9499",
   "metadata": {},
   "outputs": [
    {
     "name": "stdout",
     "output_type": "stream",
     "text": [
      "<class 'datetime.datetime'> 2013-10-11 00:00:00\n"
     ]
    }
   ],
   "source": [
    "the_guardian_date = 'Friday, 11.10.13'\n",
    "the_guardian_format = '%A, %d.%m.%y'\n",
    "\n",
    "the_guardian_dt = datetime.strptime(the_guardian_date, the_guardian_format)\n",
    "print(type(the_guardian_dt), the_guardian_dt)"
   ]
  },
  {
   "cell_type": "code",
   "execution_count": 5,
   "id": "7436ad3f",
   "metadata": {},
   "outputs": [
    {
     "name": "stdout",
     "output_type": "stream",
     "text": [
      "<class 'datetime.datetime'> 1977-08-18 00:00:00\n"
     ]
    }
   ],
   "source": [
    "daily_news_date = 'Thursday, 18 August 1977'\n",
    "daily_news_format = '%A, %d %B %Y'\n",
    "\n",
    "daily_news_dt = datetime.strptime(daily_news_date, daily_news_format)\n",
    "print(type(daily_news_dt), daily_news_dt)\n"
   ]
  },
  {
   "cell_type": "markdown",
   "id": "0b7b160c",
   "metadata": {},
   "source": [
    "# Задание 2 (не обязательное)\n",
    "\n",
    "Напишите функцию date_range, которая возвращает список дат за период от start_date до end_date. Даты должны вводиться в формате YYYY-MM-DD. В случае неверного формата или при start_date > end_date должен возвращаться пустой список.\n",
    "\n",
    "```\n",
    "Примеры работы программы при выводе первых трех строк файла funnel.csv:\n",
    "date_range(‘2022-01-01’, ‘2022-01-03’)\n",
    "[‘2022-01-01’, ‘2022-01-02’, ‘2022-01-03’]\n",
    "```"
   ]
  },
  {
   "cell_type": "code",
   "execution_count": 20,
   "id": "ab0a9a83",
   "metadata": {},
   "outputs": [
    {
     "name": "stdout",
     "output_type": "stream",
     "text": [
      "['2022-01-01', '2022-01-02', '2022-01-03']\n"
     ]
    }
   ],
   "source": [
    "from datetime import datetime\n",
    "from datetime import timedelta\n",
    "\n",
    "def date_range(start_date, end_date):\n",
    "    try:\n",
    "        date_dt = datetime.strptime(start_date, '%Y-%m-%d')\n",
    "        end_date_dt = datetime.strptime(end_date, '%Y-%m-%d')\n",
    "        \n",
    "        if date_dt > end_date_dt:\n",
    "            return []\n",
    "        \n",
    "        result = []\n",
    "        while date_dt <= end_date_dt:\n",
    "            result.append(datetime.strftime(date_dt, '%Y-%m-%d'))\n",
    "            date_dt += timedelta(days=1)\n",
    "        return result\n",
    "    except:\n",
    "        return []\n",
    "    \n",
    "\n",
    "print(date_range('2022-01-01', '2022-01-03'))"
   ]
  }
 ],
 "metadata": {
  "kernelspec": {
   "display_name": "Python 3 (ipykernel)",
   "language": "python",
   "name": "python3"
  },
  "language_info": {
   "codemirror_mode": {
    "name": "ipython",
    "version": 3
   },
   "file_extension": ".py",
   "mimetype": "text/x-python",
   "name": "python",
   "nbconvert_exporter": "python",
   "pygments_lexer": "ipython3",
   "version": "3.11.5"
  }
 },
 "nbformat": 4,
 "nbformat_minor": 5
}
