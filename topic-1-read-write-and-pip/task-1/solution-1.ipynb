{
 "cells": [
  {
   "cell_type": "markdown",
   "id": "3b36161c",
   "metadata": {},
   "source": [
    "# Задание 1\n",
    "\n",
    "Переведите содержимое файла purchase_log.txt в словарь purchases вида:\n",
    "{‘1840e0b9d4’: ‘Продукты’, …}\n",
    "\n",
    "```\n",
    "Пример работы программы при выводе первых двух элементов словаря purchases:\n",
    "1840e0b9d4 ‘Продукты‘\n",
    "4e4f90fcfb  ‘Электроника‘\n",
    "```"
   ]
  },
  {
   "cell_type": "code",
   "execution_count": 6,
   "id": "bbc65023",
   "metadata": {},
   "outputs": [
    {
     "name": "stdout",
     "output_type": "stream",
     "text": [
      "user_id category\n",
      "1840e0b9d4 Продукты\n",
      "4e4f90fcfb Электроника\n"
     ]
    }
   ],
   "source": [
    "import json\n",
    "\n",
    "purchases = {}\n",
    "\n",
    "with open('purchase_log.txt') as f:\n",
    "    for line in f:\n",
    "        purchase = json.loads(line)\n",
    "        purchases[purchase['user_id']] = purchase['category']\n",
    "\n",
    "for i, user_id in enumerate(purchases):\n",
    "    print(user_id, purchases[user_id])\n",
    "    if (i > 1):\n",
    "        break"
   ]
  },
  {
   "cell_type": "markdown",
   "id": "a68f2847",
   "metadata": {},
   "source": [
    "# Задание 2\n",
    "\n",
    "Для каждого user_id в файле visit_log.csv определите третий столбец с категорией покупки. Если покупка была, сам файл visit_log.csv изменять не надо.\n",
    "Запишите в файл funnel.csv визиты из файла visit_log.csv, в которых были покупки с указанием категории.\n",
    "Учтите условия для данных:\n",
    "\n",
    "содержимое purchase_log.txt помещается в оперативную память компьютера;\n",
    "содержимое visit_log.csv — нет, используйте только построчную обработку этого файла.\n",
    "\n",
    "```\n",
    "Примеры работы программы при выводе первых трёх строк файла funnel.csv:\n",
    "user_id,source,category\n",
    "1840e0b9d4,other,Продукты\n",
    "4e4f90fcfb,context,Электроника\n",
    "```"
   ]
  },
  {
   "cell_type": "code",
   "execution_count": 26,
   "id": "4b77ef0f",
   "metadata": {},
   "outputs": [
    {
     "name": "stdout",
     "output_type": "stream",
     "text": [
      "user_id,source,category\n",
      "6450655ae8,other,\n",
      "b4ea53e670,other,\n",
      "0e37347152,other,\n",
      "96064ae9e0,other,\n",
      "e1bd168161,context,\n",
      "71bcf169b4,other,\n",
      "e0aee73c5d,other,\n",
      "1f8845e157,context,\n",
      "78d22c5c78,other,\n",
      "dd85040770,other,\n",
      "2301051b25,other,\n",
      "86835b81ac,context,\n",
      "90d9a575a2,other,\n",
      "1b75c4f23f,other,\n",
      "d94b908660,None,\n",
      "f697206af5,other,\n",
      "8a9a2de36e,other,\n",
      "dd3d43c266,context,\n",
      "f6401d302f,context,\n",
      "b18d58560b,email,\n",
      "ed79586589,other,\n",
      "1840e0b9d4,other,Продукты\n",
      "b4afdc5ccc,other,\n",
      "470248aabf,other,\n",
      "948d9be43c,other,\n",
      "03592d16ac,other,\n",
      "8554e1a9f9,context,\n",
      "ceda3a4603,other,\n",
      "282d7418ae,context,\n",
      "6074c89112,context,\n",
      "60d796c3bd,other,\n",
      "cb9dd569e7,context,\n",
      "cc113dcb65,other,\n",
      "c0075c117c,other,\n",
      "8e3cd5cdcb,other,\n",
      "cddb2fc63e,other,\n",
      "73ce7c32ef,other,\n",
      "f1708b0dba,other,\n",
      "2ca3ddb1f8,other,\n",
      "3b8889be65,other,\n",
      "4d9e8e4506,other,\n",
      "9e7e01d962,email,\n",
      "da9fe887e0,other,\n",
      "892de9fb9c,context,\n",
      "37fe632faf,other,\n",
      "36e5386eab,other,\n",
      "86a94effc6,other,\n",
      "bf9d1ad797,other,\n",
      "c7d2c1423b,other,\n",
      "423bb91bd9,context,\n",
      "9d653ee784,context,\n"
     ]
    }
   ],
   "source": [
    "import json, csv\n",
    "\n",
    "purchases = {}\n",
    "\n",
    "with open('purchase_log.txt') as f:\n",
    "    for line in f:\n",
    "        purchase = json.loads(line)\n",
    "        purchases[purchase['user_id']] = purchase['category']\n",
    "        \n",
    "with open('visit_log.csv', newline='') as visit_log_f:\n",
    "    with open('funnel.csv', 'w', newline='') as funnel_f:\n",
    "        visit_log_reader = csv.reader(visit_log_f)\n",
    "        funnel_writer = csv.writer(funnel_f)\n",
    "        \n",
    "        for visit in visit_log_reader:\n",
    "            user_id = visit[0]\n",
    "            if user_id in purchases:\n",
    "                visit.append(purchases[user_id])\n",
    "            else:\n",
    "                visit.append('')\n",
    "            funnel_writer.writerow(visit)\n",
    "\n",
    "with open('funnel.csv') as funnel_f:\n",
    "    for i, entry in enumerate(funnel_f):\n",
    "        print(entry.strip())\n",
    "        if (i > 50):\n",
    "            break"
   ]
  },
  {
   "cell_type": "code",
   "execution_count": null,
   "id": "dde208b7",
   "metadata": {},
   "outputs": [],
   "source": []
  }
 ],
 "metadata": {
  "kernelspec": {
   "display_name": "Python 3 (ipykernel)",
   "language": "python",
   "name": "python3"
  },
  "language_info": {
   "codemirror_mode": {
    "name": "ipython",
    "version": 3
   },
   "file_extension": ".py",
   "mimetype": "text/x-python",
   "name": "python",
   "nbconvert_exporter": "python",
   "pygments_lexer": "ipython3",
   "version": "3.11.5"
  }
 },
 "nbformat": 4,
 "nbformat_minor": 5
}
